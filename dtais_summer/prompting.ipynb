{
 "cells": [
  {
   "cell_type": "markdown",
   "id": "448f6aa6",
   "metadata": {},
   "source": [
    "# Checking correlation of aspect scores with acceptance outcome"
   ]
  },
  {
   "cell_type": "code",
   "execution_count": 21,
   "id": "805a0dbc",
   "metadata": {},
   "outputs": [],
   "source": [
    "#!pip install requests\n",
    "\n",
    "import json\n",
    "import os\n",
    "import tempfile\n",
    "from sklearn.metrics import accuracy_score, classification_report\n",
    "import random\n",
    "import requests"
   ]
  },
  {
   "cell_type": "code",
   "execution_count": null,
   "id": "086a9dab",
   "metadata": {},
   "outputs": [],
   "source": [
    "#get these scores for all papers\n",
    "#dont necessarily need to store all the scores to get this but I may as well \n",
    "#set up a (nested?) dictionary in case there's other numerical analysis to be done\n",
    "\n",
    "#dictionary format { paper1: {name= id, originality = 1, ..., outcome = accept}}\n",
    "\n",
    "#y = acceptance (where true = 1, false = 0)?\n",
    "#x = aspect score\n",
    "#so logistic regression?\n",
    "\n",
    "#go through files\n"
   ]
  },
  {
   "cell_type": "code",
   "execution_count": 29,
   "id": "b82645ff",
   "metadata": {},
   "outputs": [
    {
     "data": {
      "text/plain": [
       "'\\n{\\n\\n  \"decision\": \"REJECTED\",\\n  \"rationale\": \"The paper lacks novelty and the results are not clearly explained.\",\\n  \"aspect_scores\": {\\n    \"originality\": 2,\\n    \"clarity\": 3,\\n    \"soundness\": 2,\\n    \"impact\": 2\\n  }\\n}\\n\\n'"
      ]
     },
     "execution_count": 29,
     "metadata": {},
     "output_type": "execute_result"
    }
   ],
   "source": [
    "def build_prompt(paper):\n",
    "  metadata = paper.get('metadata') #metadata dictionary that contains the actual contents of the paper\n",
    "  prompt_not_structured_output = f\"\"\"\n",
    "\n",
    "  Please read the paper information below and predict whether this paper would be accepted or rejected at ICLR 2017. Then, explain your reasoning.\n",
    "  Respond only in the following JSON format:\n",
    "  {{\n",
    "    \"decision\": \"ACCEPTED\" or \"REJECTED\",\n",
    "    \"rationale\": \"Explain your reasoning\"\n",
    "  }}\n",
    "\n",
    "  Abstract: {metadata.get('abstractText', '').strip()}\n",
    "\n",
    "  \"\"\"\n",
    "  prompt1 = f\"\"\"\n",
    "\n",
    "  You will review the title and abstract of a research paper. In the JSON prediction field, provide your prediction of ACCEPT or REJECT for the paper's submission to ICLR 2017. \n",
    "  Then, in the JSON reasoning field, provide your reasoning for your prediction.\n",
    "\n",
    "  Abstract: {metadata.get('abstractText', '').strip()}\n",
    "\n",
    "  \"\"\"\n",
    "  #print(metadata)\n",
    "  #metadata.get('title', '').strip()\n",
    "  #metadata.get('abstractText', '').strip()\n",
    "  \n",
    "\n",
    "  prompt_acceptance = f\"\"\"\n",
    "\n",
    "  You will review the contents of a research paper. \n",
    "\n",
    "  Paper Contents: {str(metadata.get('sections'))}\n",
    "\n",
    "  In the JSON prediction field, provide your prediction of ACCEPT or REJECT for the paper's submission to ICLR 2017. \n",
    "  Then, in the JSON reasoning field, provide your reasoning for your prediction.\n",
    "  \"\"\"\n",
    "\n",
    "\n",
    "\n",
    "  soundness_guidline = f\"\"\"Given that this is a short/long paper, is it sufficiently sound and thorough?\n",
    "  Does it clearly state scientific claims and provide adequate support for them?\n",
    "  For experimental papers: consider the depth and/or breadth of the research questions investigated, technical soundness of experiments, methodological validity of evaluation.\n",
    "  For position papers, surveys: consider whether the current state of the field is adequately represented and main counter-arguments acknowledged. For resource papers: consider the data collection methodology, resulting data & the difference from existing resources are described in sufficient detail.\n",
    "  \n",
    "  5 = Excellent: This study is one of the most thorough I have seen, given its type.\n",
    "\n",
    "  4 = Strong: This study provides sufficient support for all of its claims. Some extra experiments could be nice, but not essential.\n",
    "\n",
    "  3 = Acceptable: This study provides sufficient support for its main claims. Some minor points may need extra support or details.\n",
    "\n",
    "  2 = Poor: Some of the main claims are not sufficiently supported. There are major technical/methodological problems.\n",
    "\n",
    "  1 = Major Issues: This study is not yet sufficiently thorough to warrant publication or is not relevant to ACL.\n",
    "  \"\"\"\n",
    "  \n",
    "  prompt_soundness = f\"\"\" You will read the contents of a research paper and score its SOUNDNESS as a reviewer for ACL 2017. \n",
    "\n",
    "  Paper Contents: {str(metadata.get('sections'))}\n",
    "\n",
    "  ACL 2017 defines SOUNDNESS as folllows: {soundness_guidline}\n",
    "\n",
    "  Using the paper contents and the ACL 2017 definition of SOUNDNESS, score the paper on SOUNDNESS and provide your reasoning.\n",
    "  \n",
    "  \"\"\"\n",
    "\n",
    "  return prompt_soundness\n",
    "\n",
    "\n",
    "  \n",
    "\n",
    "  \n",
    "'''\n",
    "{\n",
    "\n",
    "  \"decision\": \"REJECTED\",\n",
    "  \"rationale\": \"The paper lacks novelty and the results are not clearly explained.\",\n",
    "  \"aspect_scores\": {\n",
    "    \"originality\": 2,\n",
    "    \"clarity\": 3,\n",
    "    \"soundness\": 2,\n",
    "    \"impact\": 2\n",
    "  }\n",
    "}\n",
    "\n",
    "'''\n"
   ]
  },
  {
   "cell_type": "code",
   "execution_count": 30,
   "id": "4ac5cc77",
   "metadata": {},
   "outputs": [],
   "source": [
    "def model_forecasting(model, prompt):\n",
    "    #print(prompt)\n",
    "    # Send request to Ollama\n",
    "\n",
    "\n",
    "    res = requests.post(\n",
    "        \"http://localhost:11434/api/generate\",\n",
    "        json={\n",
    "            \"model\": model, #llama3.2:3b , \"qwen3:latest\"\n",
    "            \"prompt\": prompt, \n",
    "            \"stream\": False, \n",
    "            #\"think\": True,\n",
    "            # should i include format field?\n",
    "            \"format\":{\n",
    "            \"type\": \"object\",\n",
    "            \"properties\":{ \"prediction\": {\"type\": \"string\"}, \"rationale\": {\"type\":\"string\"} }, \n",
    "            \"required\": [\"prediction\", \"reasoning\"]\n",
    "            }\n",
    "        }\n",
    "    )\n",
    "    result = res.json()\n",
    "    return result\n"
   ]
  },
  {
   "cell_type": "markdown",
   "id": "9ff01a8c",
   "metadata": {},
   "source": [
    "implementing structured json outputs - https://ollama.com/blog/structured-outputs"
   ]
  },
  {
   "cell_type": "code",
   "execution_count": 31,
   "id": "396c5ca2",
   "metadata": {},
   "outputs": [],
   "source": [
    "pdf = [\"C:\\\\Users\\\\G34371231\\\\OneDrive - The George Washington University\\\\Desktop\\\\PeerRead\\\\data\\\\iclr_2017\\\\train\\\\parsed_pdfs\\\\304.pdf.json\"]\n",
    "review = [\"C:\\\\Users\\\\G34371231\\\\OneDrive - The George Washington University\\\\Desktop\\\\PeerRead\\\\data\\\\iclr_2017\\\\train\\\\reviews\\\\304.json\"]\n",
    "def predict_acceptance(pdf_path, review_path, results):\n",
    "    \n",
    "    with open(pdf_path, 'r') as f1:\n",
    "        paper = json.load(f1) #json file contents for one research paper\n",
    "    with open(review_path, 'r') as f2:\n",
    "        review = json.load(f2)\n",
    "\n",
    "    prompt = build_prompt(paper)\n",
    "    model = \"qwen3:latest\"\n",
    "    output = model_forecasting(model, prompt)\n",
    "    json_response = json.loads(output.get(\"response\"))\n",
    "    \n",
    "    results[paper.get(\"name\")] = {\n",
    "        \"real_acceptance_label\": review.get(\"accepted\"),\n",
    "        \"predicted\": json_response.get(\"prediction\"),\n",
    "        \"rationale\": json_response.get(\"rationale\"),\n",
    "        \"complete_output\": output\n",
    "    }\n",
    "    return results\n",
    "        "
   ]
  },
  {
   "cell_type": "code",
   "execution_count": 44,
   "id": "d2e394cf",
   "metadata": {},
   "outputs": [],
   "source": [
    "def predict_aspect(pdf_path, review_path, results):\n",
    "    with open(pdf_path, 'r') as f1:\n",
    "        paper = json.load(f1) #json file contents for one research paper\n",
    "\n",
    "    with open(review_path, 'r') as f2:\n",
    "        review = json.load(f2)\n",
    "\n",
    "\n",
    "    prompt = build_prompt(paper)\n",
    "    model = \"qwen3:latest\"\n",
    "    output = model_forecasting(model, prompt)\n",
    "    json_response = json.loads(output.get(\"response\"))\n",
    "    actual_reviews_list = review.get(\"reviews\")\n",
    "    actual_reviews_dict = actual_reviews_list[0]\n",
    "\n",
    "    results[paper.get(\"name\")] = {\n",
    "        \"real_score\": actual_reviews_dict.get(\"SOUNDNESS_CORRECTNESS\"),\n",
    "        \"predicted_score\": json_response.get(\"prediction\"),\n",
    "        \"rationale\": json_response.get(\"rationale\"),\n",
    "        \"complete_output\": output\n",
    "    }\n",
    "    return results"
   ]
  },
  {
   "cell_type": "code",
   "execution_count": null,
   "id": "5c9ceb57",
   "metadata": {},
   "outputs": [],
   "source": [
    "iclr_parsed_train_path = \"C:\\\\Users\\\\G34371231\\\\OneDrive - The George Washington University\\\\Desktop\\\\PeerRead\\\\data\\\\iclr_2017\\\\train\\\\parsed_pdfs\"\n",
    "iclr_reviews_train_path = \"C:\\\\Users\\\\G34371231\\\\OneDrive - The George Washington University\\\\Desktop\\\\PeerRead\\\\data\\\\iclr_2017\\\\train\\\\reviews\"\n",
    "output_path = \"C:\\\\Users\\\\G34371231\\\\OneDrive - The George Washington University\\\\Desktop\\\\PeerRead\\\\dtais_summer\\\\qwen3_forecasting_paper_100.json\""
   ]
  },
  {
   "cell_type": "code",
   "execution_count": null,
   "id": "7b34abda",
   "metadata": {},
   "outputs": [],
   "source": [
    "\n",
    "def get_accuracy(parsed_path, reviews_path):\n",
    "    sorted_paper_paths= sorted(os.listdir(parsed_path))\n",
    "    sorted_review_paths = sorted(os.listdir(reviews_path))\n",
    "    results = {} #dictionary of results\n",
    "\n",
    "    for paper_json_file, review_json_file in zip(sorted_paper_paths[:100], sorted_review_paths[:100]):\n",
    "        json_pdf_path = os.path.join(parsed_path, paper_json_file)\n",
    "        json_review_path = os.path.join(reviews_path, review_json_file)\n",
    "        #print(paper_json_file)\n",
    "        results = predict_acceptance(json_pdf_path, json_review_path, results)\n",
    "        \n",
    "    with open(output_path,'a') as f3:\n",
    "        json.dump(results,f3)"
   ]
  },
  {
   "cell_type": "code",
   "execution_count": null,
   "id": "5ab0b326",
   "metadata": {},
   "outputs": [],
   "source": [
    "get_accuracy(iclr_parsed_train_path, iclr_reviews_train_path)"
   ]
  },
  {
   "cell_type": "code",
   "execution_count": 7,
   "id": "8991aaa5",
   "metadata": {},
   "outputs": [
    {
     "name": "stdout",
     "output_type": "stream",
     "text": [
      "No valid data to evaluate.\n"
     ]
    }
   ],
   "source": [
    "json_results_path ='C:\\\\Users\\\\G34371231\\\\OneDrive - The George Washington University\\\\Desktop\\\\PeerRead\\\\dtais_summer\\\\qwen3_forecasting_paper_100.json'\n",
    "with open(json_results_path, 'r') as f:\n",
    "    data = json.load(f)\n",
    "#Extract true and predicted labels \n",
    "y_true = []\n",
    "y_pred = []\n",
    "\n",
    "for fname, entry in data.items():\n",
    "    #print(data.items())\n",
    "    true_label = entry.get(\"real_acceptance_label\", None)\n",
    "    pred_label = entry.get(\"predicted\").strip().upper()\n",
    "\n",
    "    if true_label is None or pred_label not in [\"ACCEPT\", \"REJECT\"]:\n",
    "        print(f'missing label for {fname}')\n",
    "        continue  #in case entry is not in epxected format\n",
    "\n",
    "    true_label_str = \"ACCEPT\" if true_label else \"REJECT\"\n",
    "    y_pred.append(pred_label)\n",
    "\n",
    "if y_true:\n",
    "    acc = accuracy_score(y_true, y_pred)\n",
    "    print(f\"Accuracy: {acc:.2f} on {len(y_true)} examples\")\n",
    "    print(classification_report(y_true, y_pred))\n",
    "else:\n",
    "    print(\"No valid data to evaluate.\")\n"
   ]
  },
  {
   "cell_type": "code",
   "execution_count": null,
   "id": "f0eb0cee",
   "metadata": {},
   "outputs": [],
   "source": [
    "#need to set a random seed to sample for evaluating accuracy or just shuffle and prompt for all ICLR training papers to get accuracy score?\n",
    "#should keep track of what files contain true vs false for accepted and how uneven this distribution is!\n",
    "\n",
    "accepted = []\n",
    "rejected = []\n",
    "\n",
    "def sort_by_acceptance(paper_path, review_path):\n",
    "    for paper_review_pair in zip(os.listdir(paper_path), os.listdir(review_path)):\n",
    "        fpaper_path = os.path.join(paper_path, paper_review_pair[0])\n",
    "        freview_path = os.path.join(review_path, paper_review_pair[1])\n",
    "        try: \n",
    "            with open(freview_path) as f:\n",
    "                review_data = json.load(f)\n",
    "\n",
    "            outcome = review_data.get(\"accepted\")\n",
    "            #file_basename = os.path.basename(freview_path)\n",
    "            #https://stackoverflow.com/questions/678236/how-do-i-get-the-filename-without-the-extension-from-a-path-in-python\n",
    "            \n",
    "            #paper_id = os.path.splitext(file_basename)[0]\n",
    "            if outcome == True: accepted.append([fpaper_path, freview_path])\n",
    "            elif outcome == False: rejected.append([fpaper_path, freview_path])\n",
    "            else: print(f\"CHECK FILE {freview_path}: accepted field contains {outcome}\")\n",
    "        except Exception as e: \n",
    "            print(f\"error reading {freview_path}: {e}\")\n",
    "            \n",
    "    return sorted(accepted), sorted(rejected)\n"
   ]
  },
  {
   "cell_type": "code",
   "execution_count": null,
   "id": "d977bff4",
   "metadata": {},
   "outputs": [],
   "source": [
    "accepted, rejected = sort_by_acceptance(iclr_parsed_train_path, iclr_reviews_train_path)\n",
    "#print(f\"accepted: {accepted}\")\n",
    "#print(f\"rejected: {rejected}\")"
   ]
  },
  {
   "cell_type": "code",
   "execution_count": null,
   "id": "5440fab0",
   "metadata": {},
   "outputs": [],
   "source": [
    "def prompt_sample(random_sampling, half_num_samples, set_seed, parsed_path, reviews_path, output_path):\n",
    "    random.seed(set_seed)\n",
    "    paper_name_set = []\n",
    "    results = {}\n",
    "    if random_sampling: #set random_sampling = True to randomly sample a subset of papers in the folder. \n",
    "        all_accepted, all_rejected = sort_by_acceptance(parsed_path, reviews_path)\n",
    "        accepted = random.sample(all_accepted, half_num_samples)\n",
    "        rejected = random.sample(all_rejected, half_num_samples)\n",
    "        paper_name_set = paper_name_set + accepted + rejected\n",
    "        #number of accepted papers = number of rejected papers in sample set\n",
    "        random.shuffle(paper_name_set)\n",
    "\n",
    "    #print(accepted)\n",
    "    #print(rejected)\n",
    "    #print(paper_name_set)\n",
    "    \n",
    "    if random_sampling==False:\n",
    "        paper_name_set =  zip(os.list(parsed_path), os.list(reviews_path)) #note: train and review folders contain the same \n",
    "        random.shuffle(paper_name_set)\n",
    "        for i in range(0, len(paper_name_set)):\n",
    "            paper_name_set[i] = [os.path.join(parsed_path, i)[0], os.path.join(reviews_path, i)[1]]\n",
    "\n",
    "    #print(paper_name_set[0])\n",
    "    for json_pdf_path, json_review_path in paper_name_set:\n",
    "        results = predict_acceptance(json_pdf_path, json_review_path, results)\n",
    "    with open(output_path,'a') as f3:\n",
    "        json.dump(results,f3)\n",
    "    \n",
    "    return paper_name_set"
   ]
  },
  {
   "cell_type": "code",
   "execution_count": null,
   "id": "928d2df9",
   "metadata": {},
   "outputs": [],
   "source": [
    "output_path = \"C:\\\\Users\\\\G34371231\\\\OneDrive - The George Washington University\\\\Desktop\\\\PeerRead\\\\dtais_summer\\\\qwen3_forecasting_paper_100.json\"\n",
    "prompt_sample(random_sampling = True, half_num_samples = 50, set_seed = 50, parsed_path = iclr_parsed_train_path, reviews_path = iclr_reviews_train_path, output_path = output_path)"
   ]
  },
  {
   "cell_type": "code",
   "execution_count": 17,
   "id": "9470e1ad",
   "metadata": {},
   "outputs": [],
   "source": [
    "parsed_path = \"C:\\\\Users\\\\G34371231\\\\OneDrive - The George Washington University\\\\Desktop\\\\PeerRead\\\\data\\\\acl_2017\\\\train\\\\parsed_pdfs\\\\12.pdf.json\"\n",
    "review_path = \"C:\\\\Users\\\\G34371231\\\\OneDrive - The George Washington University\\\\Desktop\\\\PeerRead\\\\data\\\\acl_2017\\\\train\\\\reviews\\\\12.json\"\n",
    "#make sure to create new github repo so i can make it private bc im using file paths that list my GWID which i should be kept private\n",
    "output_path = \"C:\\\\Users\\\\G34371231\\\\OneDrive - The George Washington University\\\\Desktop\\\\PeerRead\\\\dtais_summer\\\\qwen3_soundness_paper_100.json\"\n",
    "#prompt_sample(random_sampling=True, half_num_samples=50, set_seed = 50, parsed_path = parsed_path, reviews_path = review_path, output_path= output_path)\n",
    "\n",
    "#https://stackoverflow.com/questions/71446341/what-security-issue-is-caused-by-changing-the-visibility-of-a-fork-on-github"
   ]
  },
  {
   "cell_type": "code",
   "execution_count": null,
   "id": "419e3ca7",
   "metadata": {},
   "outputs": [
    {
     "name": "stdout",
     "output_type": "stream",
     "text": [
      "{'12.pdf': {'real_score': '4', 'predicted_score': '4', 'rationale': 'The paper presents a thorough analysis of time expressions across multiple datasets, providing insights into their brevity and syntactic behavior. It introduces SynTime, a type-based time expression tagger, and supports its claims with experimental results across three datasets. While the experiments are comprehensive and the methodology is sound, there is room for additional experiments, particularly in exploring the generalizability of SynTime across other languages or domains, which could strengthen the study further.', 'complete_output': {'model': 'qwen3:latest', 'created_at': '2025-07-01T18:43:19.0007165Z', 'response': '{\\n  \"prediction\": \"4\",\\n  \"rationale\": \"The paper presents a thorough analysis of time expressions across multiple datasets, providing insights into their brevity and syntactic behavior. It introduces SynTime, a type-based time expression tagger, and supports its claims with experimental results across three datasets. While the experiments are comprehensive and the methodology is sound, there is room for additional experiments, particularly in exploring the generalizability of SynTime across other languages or domains, which could strengthen the study further.\"\\n}\\n', 'done': True, 'done_reason': 'stop', 'context': [151644, 872, 198, 1446, 686, 1349, 279, 8794, 315, 264, 3412, 5567, 323, 5456, 1181, 84273, 7267, 438, 264, 55514, 369, 43461, 220, 17, 15, 16, 22, 13, 4710, 220, 17862, 35862, 25, 61108, 11412, 1210, 2240, 11, 364, 1318, 1210, 364, 16, 220, 15, 15, 15, 1699, 15, 16, 16, 1699, 15, 16, 17, 1699, 15, 16, 18, 1699, 15, 16, 19, 1699, 15, 16, 20, 1699, 15, 16, 21, 1699, 15, 16, 22, 1699, 15, 16, 23, 1699, 15, 16, 24, 1699, 15, 17, 15, 1699, 15, 17, 16, 1699, 15, 17, 17, 1699, 15, 17, 18, 1699, 15, 17, 19, 1699, 15, 17, 20, 1699, 15, 17, 21, 1699, 15, 17, 22, 1699, 15, 17, 23, 1699, 15, 17, 24, 1699, 15, 18, 15, 1699, 15, 18, 16, 1699, 15, 18, 17, 1699, 15, 18, 18, 1699, 15, 18, 19, 1699, 15, 18, 20, 1699, 15, 18, 21, 1699, 15, 18, 22, 1699, 15, 18, 23, 1699, 15, 18, 24, 1699, 15, 19, 15, 1699, 15, 19, 16, 1699, 15, 19, 17, 1699, 15, 19, 18, 1699, 15, 19, 19, 1699, 15, 19, 20, 1699, 15, 19, 21, 1699, 15, 19, 22, 1699, 15, 19, 23, 1699, 15, 19, 24, 1699, 15, 21, 16, 1699, 15, 21, 17, 1699, 15, 21, 18, 1699, 15, 21, 19, 1699, 15, 21, 20, 1699, 15, 21, 21, 1699, 15, 21, 22, 1699, 15, 21, 23, 1699, 15, 21, 24, 1699, 15, 22, 15, 1699, 15, 22, 16, 1699, 15, 22, 17, 1699, 15, 22, 18, 1699, 15, 22, 19, 1699, 15, 22, 20, 1699, 15, 22, 21, 1699, 15, 22, 22, 1699, 15, 22, 23, 1699, 15, 22, 24, 1699, 15, 23, 15, 1699, 15, 23, 16, 1699, 15, 23, 17, 1699, 15, 23, 18, 1699, 15, 23, 19, 1699, 15, 23, 20, 1699, 15, 23, 21, 1699, 15, 23, 22, 1699, 15, 23, 23, 1699, 15, 23, 24, 1699, 15, 24, 15, 1699, 15, 24, 16, 1699, 15, 24, 17, 1699, 15, 24, 18, 1699, 15, 24, 19, 1699, 15, 24, 20, 1699, 15, 24, 21, 1699, 15, 24, 22, 1699, 15, 24, 23, 1699, 15, 24, 24, 24731, 5360, 11412, 1210, 364, 16, 28338, 516, 364, 1318, 1210, 364, 1462, 7493, 11088, 458, 2989, 3476, 304, 1995, 56370, 323, 1657, 8357, 304, 5810, 4128, 8692, 320, 2101, 61767, 1842, 452, 2572, 220, 17, 15, 16, 16, 568, 66875, 4849, 882, 23393, 504, 1910, 1467, 702, 28023, 23839, 6529, 2474, 1537, 13212, 320, 10141, 71, 8535, 1842, 452, 2572, 220, 17, 15, 15, 22, 11, 220, 17, 15, 16, 15, 26, 547, 89, 57, 12715, 1842, 452, 2572, 220, 17, 15, 16, 18, 72341, 77, 1462, 7493, 17843, 1887, 17601, 1378, 1699, 74, 8673, 315, 5413, 11, 5912, 5980, 1714, 320, 623, 4640, 4370, 323, 479, 57937, 11, 220, 17, 15, 16, 18, 26, 794, 299, 136, 230, 83, 4370, 323, 479, 57937, 11, 220, 17, 15, 16, 15, 26, 43372, 323, 39523, 11, 220, 17, 15, 16, 17, 8, 323, 5662, 6832, 3118, 1714, 320, 91603, 567, 11, 220, 17, 15, 16, 18, 26, 12066, 1842, 452, 2572, 220, 17, 15, 16, 19, 568, 18100, 29939, 882, 7493, 4772, 10637, 1410, 15282, 1429, 882, 23393, 448, 15516, 6188, 5601, 11, 1393, 807, 1410, 537, 15282, 279, 882, 23393, 429, 525, 537, 18054, 304, 894, 11464, 5912, 13, 12960, 6832, 3118, 5413, 1373, 4862, 821, 369, 1661, 5068, 11, 323, 1231, 537, 15282, 2686, 20757, 882, 23393, 7110, 77, 641, 1039, 3920, 11, 582, 23643, 279, 882, 23393, 304, 3040, 29425, 25, 4120, 25828, 320, 47, 590, 35468, 78578, 1842, 452, 2572, 220, 17, 15, 15, 18, 65, 701, 44134, 672, 539, 320, 47, 12856, 1842, 452, 2572, 220, 17, 15, 16, 16, 701, 29228, 98970, 320, 44, 1370, 324, 323, 36728, 11, 220, 17, 15, 16, 15, 701, 323, 77701, 13, 5542, 279, 6358, 11, 582, 1281, 3040, 23722, 13, 5512, 11, 1429, 882, 23393, 525, 1602, 2805, 11, 448, 220, 23, 15, 4, 315, 882, 23393, 8482, 902, 803, 1091, 2326, 11211, 13, 10440, 11, 279, 34918, 1483, 311, 3158, 882, 1995, 374, 1602, 2613, 11, 448, 264, 2613, 1874, 315, 20844, 13, 20861, 11, 518, 3245, 220, 24, 18, 4, 315, 882, 23393, 6644, 518, 3245, 825, 882, 3950, 13, 576, 1537, 21930, 374, 429, 4244, 304, 882, 23393, 19869, 4428, 83187, 23170, 27099, 13, 2009, 279, 23722, 28143, 311, 279, 17508, 315, 3245, 5041, 320, 31047, 69, 11, 220, 16, 24, 19, 24, 568, 2938, 374, 11, 1251, 686, 1160, 1212, 279, 3245, 5041, 304, 1973, 311, 29337, 279, 2783, 315, 4802, 518, 2176, 3842, 2188, 323, 21750, 2188, 311, 4128, 10431, 320, 31047, 69, 11, 220, 16, 24, 19, 24, 568, 4120, 7493, 374, 949, 315, 4128, 323, 14056, 438, 458, 3749, 315, 10535, 13, 10698, 23393, 11, 2613, 34918, 11, 31559, 11, 323, 4428, 83187, 23170, 27099, 678, 7949, 279, 2783, 315, 4802, 2567, 311, 19032, 7110, 77, 28715, 389, 279, 23722, 11, 582, 29614, 264, 943, 29939, 5486, 11, 6941, 23153, 1462, 320, 14009, 37134, 527, 374, 504, 5718, 406, 23170, 701, 311, 15282, 882, 23393, 13, 44763, 11, 582, 6979, 220, 18, 1887, 4494, 11, 31025, 882, 3950, 11, 22739, 11, 323, 83292, 11, 311, 1874, 882, 13904, 5792, 23393, 916, 11211, 13, 4120, 11211, 525, 279, 4244, 429, 20975, 3158, 882, 1995, 26266, 77, 17, 1699, 16, 15, 16, 1699, 16, 15, 17, 1699, 16, 15, 18, 1699, 16, 15, 19, 1699, 16, 15, 20, 1699, 16, 15, 21, 1699, 16, 15, 22, 1699, 16, 15, 23, 1699, 16, 15, 24, 1699, 16, 16, 15, 1699, 16, 16, 16, 1699, 16, 16, 17, 1699, 16, 16, 18, 1699, 16, 16, 19, 1699, 16, 16, 20, 1699, 16, 16, 21, 1699, 16, 16, 22, 1699, 16, 16, 23, 1699, 16, 16, 24, 1699, 16, 17, 15, 1699, 16, 17, 16, 1699, 16, 17, 17, 1699, 16, 17, 18, 1699, 16, 17, 19, 1699, 16, 17, 20, 1699, 16, 17, 21, 1699, 16, 17, 22, 1699, 16, 17, 23, 1699, 16, 17, 24, 1699, 16, 18, 15, 1699, 16, 18, 16, 1699, 16, 18, 17, 1699, 16, 18, 18, 1699, 16, 18, 19, 1699, 16, 18, 20, 1699, 16, 18, 21, 1699, 16, 18, 22, 1699, 16, 18, 23, 1699, 16, 18, 24, 1699, 16, 19, 15, 1699, 16, 19, 16, 1699, 16, 19, 17, 1699, 16, 19, 18, 1699, 16, 19, 19, 1699, 16, 19, 20, 1699, 16, 19, 21, 1699, 16, 19, 22, 1699, 16, 19, 23, 1699, 16, 19, 24, 1699, 16, 20, 15, 1699, 16, 20, 16, 1699, 16, 20, 17, 1699, 16, 20, 18, 1699, 16, 20, 19, 1699, 16, 20, 20, 1699, 16, 20, 21, 1699, 16, 20, 22, 1699, 16, 20, 23, 1699, 16, 20, 24, 1699, 16, 21, 15, 1699, 16, 21, 16, 1699, 16, 21, 17, 1699, 16, 21, 18, 1699, 16, 21, 19, 1699, 16, 21, 20, 1699, 16, 21, 21, 1699, 16, 21, 22, 1699, 16, 21, 23, 1699, 16, 21, 24, 1699, 16, 22, 15, 1699, 16, 22, 16, 1699, 16, 22, 17, 1699, 16, 22, 18, 1699, 16, 22, 19, 1699, 16, 22, 20, 1699, 16, 22, 21, 1699, 16, 22, 22, 1699, 16, 22, 23, 1699, 16, 22, 24, 1699, 16, 23, 15, 1699, 16, 23, 16, 1699, 16, 23, 17, 1699, 16, 23, 18, 1699, 16, 23, 19, 1699, 16, 23, 20, 1699, 16, 23, 21, 1699, 16, 23, 22, 1699, 16, 23, 23, 1699, 16, 23, 24, 1699, 16, 24, 15, 1699, 16, 24, 16, 1699, 16, 24, 17, 1699, 16, 24, 18, 1699, 16, 24, 19, 1699, 16, 24, 20, 1699, 16, 24, 21, 1699, 16, 24, 22, 1699, 16, 24, 23, 1699, 16, 24, 24, 1699, 20805, 438, 882, 8153, 320, 68, 1302, 2572, 3369, 10249, 527, 568, 5650, 11836, 5602, 882, 11211, 26, 807, 1231, 4994, 1573, 476, 1283, 882, 11211, 11, 384, 1302, 2572, 3369, 325, 17539, 527, 323, 3369, 6304, 527, 304, 3369, 325, 17539, 3951, 4134, 14304, 16212, 3253, 525, 6013, 23695, 323, 5109, 13, 5542, 1910, 1467, 23153, 1462, 1156, 35511, 882, 11211, 11, 323, 1221, 44699, 35670, 323, 7857, 1127, 7110, 77, 45, 71147, 11, 23153, 1462, 374, 264, 5912, 5980, 4772, 1389, 13, 576, 1376, 6672, 1948, 23153, 1462, 323, 1008, 5912, 29939, 4772, 10637, 15448, 304, 279, 1616, 315, 26312, 4494, 323, 279, 1616, 315, 29729, 5601, 13, 576, 943, 7271, 315, 23153, 1462, 374, 14606, 553, 949, 8668, 1331, 39586, 304, 892, 1036, 2718, 84, 1671, 1874, 1045, 4244, 315, 4128, 1119, 6846, 320, 4917, 8, 892, 1473, 4428, 83187, 23170, 16999, 1987, 320, 44, 5947, 323, 5016, 332, 2986, 11, 220, 16, 24, 24, 24, 8, 23153, 1462, 18653, 4494, 369, 11211, 4092, 311, 862, 83187, 23170, 27099, 13, 6944, 5912, 5980, 4772, 10637, 6979, 4494, 369, 11211, 3118, 389, 862, 41733, 7290, 13, 1752, 3110, 11, 328, 1381, 545, 18653, 220, 20, 41733, 22739, 4494, 11, 1741, 438, 11639, 35670, 26, 220, 16, 1393, 23153, 1462, 18653, 220, 20, 83187, 23170, 22739, 4494, 11, 1741, 438, 35670, 429, 4994, 1573, 882, 11211, 13, 320, 4060, 11113, 220, 19, 13, 16, 369, 3565, 6138, 62809, 11, 1008, 5912, 5980, 4772, 10637, 2884, 5601, 369, 1817, 943, 3118, 389, 862, 49700, 323, 3484, 448, 1817, 943, 25156, 13, 23153, 1462, 14431, 5601, 3118, 389, 279, 3950, 4494, 323, 862, 8674, 9892, 304, 882, 23393, 13, 2938, 374, 3170, 582, 1618, 23153, 1462, 264, 943, 5980, 5486, 13, 4398, 22813, 11, 1008, 5912, 5980, 4772, 10637, 2884, 5601, 304, 264, 8356, 1616, 11, 2670, 8356, 3084, 323, 8356, 2309, 13, 758, 12872, 11, 23153, 1462, 14431, 5601, 304, 264, 66609, 1714, 3118, 389, 279, 4522, 315, 18732, 14461, 13, 576, 66609, 5601, 525, 5008, 4285, 429, 432, 3643, 23153, 1462, 1753, 803, 18776, 11, 38914, 1238, 11, 323, 9016, 3100, 12635, 11, 6388, 23153, 1462, 311, 1598, 304, 1931, 882, 7110, 77, 1654, 15442, 23153, 1462, 2348, 2326, 1584, 8668, 10603, 471, 3046, 10999, 11, 31025, 11, 1260, 26802, 1462, 11, 328, 1381, 545, 11, 323, 65616, 1462, 11, 389, 2326, 29425, 11, 31025, 11, 4120, 25828, 11, 29228, 98970, 11, 323, 77701, 13, 4120, 25828, 323, 29228, 98970, 525, 28431, 29425, 369, 882, 7493, 32189, 13, 220, 17, 46793, 3059, 1473, 429, 23153, 1462, 11941, 700, 712, 9807, 279, 2326, 1584, 8668, 10603, 37821, 5413, 389, 4120, 25828, 323, 77701, 29425, 13, 1913, 29228, 98970, 11, 23153, 1462, 82591, 29039, 3059, 13, 4398, 22813, 11, 23153, 1462, 82591, 279, 1850, 40131, 389, 678, 2326, 29425, 323, 47198, 1661, 3059, 389, 77701, 10337, 13, 2014, 2629, 705, 11, 582, 1281, 279, 2701, 19026, 7110, 77, 16, 3703, 1110, 5204, 905, 14272, 94103, 77, 13545, 54164, 45, 12567, 62978, 34319, 77, 13629, 13437, 14, 55101, 14272, 94103, 9612, 13545, 35263, 95489, 220, 17, 38, 343, 672, 539, 10337, 572, 537, 1483, 304, 1039, 21204, 1576, 279, 9201, 304, 279, 10337, 572, 9463, 7907, 553, 1008, 4772, 10637, 892, 1231, 537, 387, 279, 4910, 8046, 9201, 7110, 77, 6667, 1205, 23643, 279, 882, 23393, 504, 3040, 29425, 323, 1281, 3040, 23722, 13, 576, 23722, 3410, 5904, 304, 3793, 315, 882, 7493, 369, 279, 17508, 315, 3245, 5041, 320, 31047, 69, 11, 220, 16, 24, 19, 24, 568, 1205, 2884, 23153, 1462, 3118, 389, 279, 23722, 7110, 77, 6667, 1205, 29614, 264, 943, 5980, 882, 7493, 4772, 1389, 11, 23153, 1462, 11, 429, 18653, 83187, 23170, 4494, 323, 14431, 4285, 66609, 5601, 369, 882, 7493, 17843, 13, 23153, 1462, 5707, 458, 4522, 311, 39721, 5912, 5980, 882, 4772, 1389, 7110, 77, 6667, 1205, 6786, 21204, 389, 2326, 29425, 11, 323, 279, 3059, 19869, 279, 26279, 315, 23153, 1462, 2348, 1584, 8668, 10603, 37821, 3046, 10999, 3159, 2137, 5360, 11412, 1210, 364, 17, 24369, 5547, 516, 364, 1318, 1210, 364, 8441, 3412, 389, 882, 7493, 21892, 525, 4961, 304, 19944, 54469, 22932, 320, 10141, 71, 8535, 1842, 452, 2572, 220, 17, 15, 15, 22, 11, 220, 17, 15, 16, 15, 26, 547, 89, 57, 12715, 1842, 452, 2572, 220, 17, 15, 16, 18, 568, 576, 3383, 374, 17779, 1119, 1378, 1186, 24760, 25, 47598, 323, 48723, 7110, 77, 11337, 5980, 4120, 16378, 47598, 13, 18100, 5980, 882, 4772, 10637, 1075, 479, 1381, 545, 11, 1260, 26802, 1462, 11, 323, 328, 1381, 545, 11, 855, 1289, 882, 13904, 4244, 323, 5601, 320, 10141, 71, 8535, 1842, 452, 2572, 220, 17, 15, 15, 20, 26, 794, 299, 136, 230, 83, 4370, 323, 479, 57937, 11, 220, 17, 15, 16, 15, 26, 43372, 323, 39523, 11, 220, 17, 15, 16, 17, 568, 1260, 26802, 1462, 320, 623, 299, 136, 230, 83, 4370, 323, 479, 57937, 11, 220, 17, 15, 16, 15, 8, 1424, 1786, 2944, 82, 5601, 448, 882, 4963, 1075, 71995, 323, 3951, 11, 323, 27505, 1134, 4128, 42675, 1075, 949, 8668, 1331, 39586, 311, 10542, 882, 7493, 13, 328, 1381, 545, 320, 1143, 524, 323, 39523, 11, 220, 17, 15, 16, 17, 8, 14431, 8356, 5601, 1667, 264, 42018, 34226, 5006, 459, 320, 39, 674, 1279, 1842, 452, 2572, 220, 16, 24, 24, 22, 8, 389, 5792, 23393, 916, 11211, 320, 1143, 524, 323, 39523, 11, 220, 17, 15, 16, 19, 568, 1084, 1156, 35511, 3842, 4244, 11, 1221, 51856, 1105, 311, 26757, 11, 323, 5499, 311, 882, 23393, 13, 18100, 5980, 4772, 10637, 11075, 1602, 1661, 3059, 304, 19944, 54469, 22932, 7110, 77, 37134, 1462, 374, 1083, 264, 5912, 5980, 4772, 1389, 1393, 279, 1376, 11799, 1948, 23153, 1462, 323, 1008, 5912, 29939, 4772, 10637, 525, 279, 1616, 315, 26312, 4494, 323, 315, 29729, 5601, 13, 23153, 1462, 18653, 4494, 369, 11211, 4092, 311, 862, 83187, 23170, 27099, 323, 14431, 5601, 304, 264, 66609, 1616, 7110, 77, 21605, 20909, 3118, 6730, 13, 12960, 6832, 3118, 5413, 8649, 4419, 504, 279, 1467, 323, 3796, 28464, 4119, 389, 279, 4419, 369, 48083, 882, 23393, 13, 13383, 4419, 2924, 3668, 4419, 11, 3409, 4419, 11, 83187, 23170, 4419, 11, 41733, 4419, 11, 323, 54986, 6535, 261, 1699, 18, 1699, 17, 15, 16, 1699, 17, 15, 17, 1699, 17, 15, 18, 1699, 17, 15, 19, 1699, 17, 15, 20, 1699, 17, 15, 21, 1699, 17, 15, 22, 1699, 17, 15, 23, 1699, 17, 15, 24, 1699, 17, 16, 15, 1699, 17, 16, 16, 1699, 17, 16, 17, 1699, 17, 16, 18, 1699, 17, 16, 19, 1699, 17, 16, 20, 1699, 17, 16, 21, 1699, 17, 16, 22, 1699, 17, 16, 23, 1699, 17, 16, 24, 1699, 17, 17, 15, 1699, 17, 17, 16, 1699, 17, 17, 17, 1699, 17, 17, 18, 1699, 17, 17, 19, 1699, 17, 17, 20, 1699, 17, 17, 21, 1699, 17, 17, 22, 1699, 17, 17, 23, 1699, 17, 17, 24, 1699, 17, 18, 15, 1699, 17, 18, 16, 1699, 17, 18, 17, 1699, 17, 18, 18, 1699, 17, 18, 19, 1699, 17, 18, 20, 1699, 17, 18, 21, 1699, 17, 18, 22, 1699, 17, 18, 23, 1699, 17, 18, 24, 1699, 17, 19, 15, 1699, 17, 19, 16, 1699, 17, 19, 17, 1699, 17, 19, 18, 1699, 17, 19, 19, 1699, 17, 19, 20, 1699, 17, 19, 21, 1699, 17, 19, 22, 1699, 17, 19, 23, 1699, 17, 19, 24, 1699, 17, 20, 15, 1699, 17, 20, 16, 1699, 17, 21, 23, 1699, 17, 21, 24, 1699, 17, 22, 15, 1699, 17, 22, 16, 1699, 17, 22, 17, 1699, 17, 22, 18, 1699, 17, 22, 19, 1699, 17, 22, 20, 1699, 17, 22, 21, 1699, 17, 22, 22, 1699, 17, 22, 23, 1699, 17, 22, 24, 1699, 17, 23, 15, 1699, 17, 23, 16, 1699, 17, 23, 17, 1699, 17, 23, 18, 1699, 17, 23, 19, 1699, 17, 23, 20, 1699, 17, 23, 21, 1699, 17, 23, 22, 1699, 17, 23, 23, 1699, 17, 23, 24, 1699, 17, 24, 15, 1699, 17, 24, 16, 1699, 17, 24, 17, 1699, 17, 24, 18, 1699, 17, 24, 19, 1699, 17, 24, 20, 1699, 17, 24, 21, 1699, 17, 24, 22, 1699, 17, 24, 23, 1699, 17, 24, 24, 1699, 20304, 320, 43, 385, 77340, 1842, 452, 2572, 220, 17, 15, 16, 15, 26, 16402, 1020, 3313, 1842, 452, 2572, 220, 17, 15, 16, 18, 26, 28003, 567, 11, 220, 17, 15, 16, 18, 568, 576, 28464, 4119, 2924, 4389, 859, 36101, 8141, 11, 78068, 47470, 11, 9186, 4196, 43904, 11, 26599, 4863, 17764, 11, 323, 91973, 10612, 24580, 320, 43, 385, 77340, 1842, 452, 2572, 220, 17, 15, 16, 15, 26, 547, 89, 57, 12715, 323, 20060, 11, 220, 17, 15, 16, 15, 26, 16402, 1020, 3313, 1842, 452, 2572, 220, 17, 15, 16, 18, 26, 28003, 567, 11, 220, 17, 15, 16, 18, 568, 4329, 4119, 6851, 1661, 5068, 11, 323, 1496, 11075, 279, 8426, 434, 16, 315, 220, 23, 17, 13, 22, 16, 4, 389, 7304, 2432, 304, 19944, 54469, 18, 320, 91603, 567, 11, 220, 17, 15, 16, 18, 72341, 77, 41365, 19944, 54469, 22932, 11, 7416, 12294, 1842, 452, 13, 32064, 39221, 3005, 31428, 323, 3455, 264, 16902, 11297, 5486, 311, 3960, 264, 41667, 6729, 369, 882, 7493, 17843, 320, 10743, 12294, 1842, 452, 2572, 220, 17, 15, 16, 17, 568, 758, 279, 1714, 6941, 65616, 1462, 11, 12066, 1842, 452, 13, 1424, 7712, 264, 1198, 6863, 5269, 356, 7593, 530, 61977, 320, 3706, 38, 8, 320, 623, 12051, 1515, 11, 220, 16, 24, 24, 21, 8, 311, 6979, 264, 738, 315, 22429, 1924, 448, 5601, 323, 990, 444, 16, 12, 22308, 2022, 311, 3960, 64667, 2266, 320, 53988, 1842, 452, 2572, 220, 17, 15, 16, 19, 568, 576, 1378, 5413, 20975, 990, 64667, 1995, 13, 3660, 292, 360, 5774, 304, 320, 53988, 1842, 452, 2572, 220, 17, 15, 16, 19, 701, 356, 8798, 1410, 12322, 9080, 5944, 1995, 315, 4128, 11, 4428, 311, 279, 5912, 5980, 5413, 13, 15139, 395, 372, 1842, 452, 13, 5244, 389, 52483, 279, 12713, 304, 23150, 11, 323, 990, 28727, 37117, 311, 15282, 882, 23393, 320, 8582, 395, 372, 1842, 452, 2572, 220, 17, 15, 16, 21, 568, 2379, 990, 4236, 882, 4494, 323, 9793, 825, 315, 1105, 311, 1817, 3409, 11, 892, 374, 4428, 311, 23153, 1462, 304, 279, 1616, 315, 26312, 4494, 916, 11211, 13, 4354, 11, 807, 5244, 1172, 389, 279, 943, 315, 2400, 11, 1393, 23153, 1462, 646, 1395, 538, 258, 551, 678, 279, 882, 23393, 323, 1558, 537, 21058, 6832, 323, 8473, 304, 1931, 882, 7110, 77, 1462, 16378, 18437, 2022, 13, 18801, 304, 19944, 54469, 22932, 2884, 5601, 369, 882, 7493, 48723, 320, 10141, 71, 8535, 1842, 452, 2572, 220, 17, 15, 15, 20, 26, 794, 299, 136, 230, 83, 4370, 323, 479, 57937, 11, 220, 17, 15, 16, 15, 26, 444, 385, 77340, 1842, 452, 2572, 220, 17, 15, 16, 15, 26, 547, 89, 57, 12715, 323, 20060, 11, 220, 17, 15, 16, 15, 26, 16402, 1020, 3313, 1842, 452, 2572, 220, 17, 15, 16, 18, 26, 28003, 567, 11, 220, 17, 15, 16, 18, 568, 9211, 279, 5912, 5942, 702, 1550, 37623, 11, 444, 385, 77340, 1842, 452, 13, 4190, 311, 9245, 264, 3460, 6540, 2331, 438, 264, 584, 5101, 369, 279, 3383, 320, 43, 385, 77340, 1842, 452, 2572, 220, 17, 15, 16, 17, 568, 4329, 11811, 4228, 279, 48723, 1882, 438, 264, 6832, 3383, 323, 990, 5662, 6832, 5413, 320, 53988, 1842, 452, 2572, 220, 17, 15, 16, 19, 26, 15139, 395, 372, 1842, 452, 2572, 220, 17, 15, 16, 21, 568, 12066, 1842, 452, 13, 320, 53988, 1842, 452, 2572, 220, 17, 15, 16, 19, 8, 990, 51149, 23999, 12111, 320, 35, 54917, 1842, 452, 2572, 220, 17, 15, 16, 16, 8, 323, 15139, 395, 372, 1842, 452, 13, 320, 8582, 395, 372, 1842, 452, 2572, 220, 17, 15, 16, 21, 8, 990, 264, 1487, 22763, 12111, 311, 21694, 279, 882, 23393, 7110, 77, 37134, 1462, 23497, 1172, 389, 882, 7493, 17843, 11, 323, 279, 48723, 1410, 387, 16994, 553, 1667, 5413, 4428, 311, 279, 6350, 5912, 5942, 11, 1576, 807, 525, 7548, 4428, 320, 43, 385, 77340, 1842, 452, 2572, 220, 17, 15, 16, 17, 568, 24731, 5360, 11412, 1210, 364, 18, 4120, 16378, 18320, 516, 364, 1318, 1210, 3355, 2137, 5360, 11412, 1210, 364, 18, 13, 16, 39183, 516, 364, 1318, 1210, 364, 1654, 6786, 6358, 389, 3040, 29425, 25, 4120, 25828, 11, 44134, 672, 539, 11, 29228, 98970, 11, 323, 77701, 13, 4120, 25828, 320, 47, 590, 35468, 78578, 1842, 452, 2572, 220, 17, 15, 15, 18, 65, 8, 374, 264, 28431, 10337, 304, 19944, 54469, 4013, 320, 10141, 71, 8535, 1842, 452, 2572, 220, 17, 15, 15, 22, 11, 220, 17, 15, 16, 15, 26, 547, 89, 57, 12715, 1842, 452, 2572, 220, 17, 15, 16, 18, 701, 30606, 315, 220, 16, 23, 18, 3669, 9709, 13, 44134, 672, 539, 320, 47, 12856, 1842, 452, 2572, 220, 17, 15, 16, 16, 8, 374, 264, 3460, 9463, 29829, 10337, 448, 220, 17, 11, 19, 20, 17, 3669, 9709, 323, 374, 1483, 304, 19944, 54469, 12, 18, 13, 29228, 98970, 10337, 374, 14257, 504, 26587, 9709, 911, 24936, 320, 44, 1370, 324, 323, 36728, 11, 220, 17, 15, 16, 15, 568, 77701, 374, 1039, 20083, 62851, 10337, 448, 220, 24, 19, 17, 23150, 315, 892, 1817, 5610, 518, 3245, 825, 882, 7493, 13, 6633, 220, 16, 93494, 279, 29425, 3159, 2137, 5360, 11412, 1210, 364, 18, 13, 17, 86429, 516, 364, 1318, 1210, 364, 3830, 279, 3040, 29425, 11, 582, 23643, 862, 882, 23393, 323, 1281, 3040, 23722, 7110, 77, 37763, 367, 220, 16, 4120, 23393, 525, 1602, 2805, 13, 4398, 1091, 220, 23, 15, 4, 315, 882, 23393, 6644, 902, 803, 1091, 2326, 4244, 323, 803, 1091, 220, 24, 15, 4, 6644, 902, 803, 1091, 3040, 4244, 7110, 77, 22029, 220, 16, 30694, 279, 3084, 7982, 315, 882, 23393, 13, 10328, 279, 21984, 525, 14548, 504, 2155, 8173, 320, 72, 1734, 2572, 3669, 9709, 11, 26587, 9709, 11, 323, 23150, 8, 323, 13289, 304, 12282, 11, 279, 3084, 315, 882, 23393, 1795, 264, 4428, 7982, 13, 758, 3953, 11, 279, 825, 37328, 882, 23393, 2088, 1699, 19, 1699, 18, 15, 16, 1699, 18, 15, 17, 1699, 18, 15, 18, 1699, 18, 15, 19, 1699, 18, 15, 20, 1699, 18, 15, 21, 1699, 18, 15, 22, 1699, 18, 15, 23, 1699, 18, 15, 24, 1699, 18, 16, 15, 1699, 18, 16, 16, 1699, 18, 16, 17, 1699, 18, 16, 18, 1699, 18, 16, 19, 1699, 18, 16, 20, 1699, 18, 16, 21, 1699, 18, 16, 22, 1699, 18, 16, 23, 1699, 18, 16, 24, 1699, 18, 17, 15, 1699, 18, 17, 16, 1699, 18, 17, 17, 1699, 18, 17, 18, 1699, 18, 17, 19, 1699, 18, 17, 20, 1699, 18, 17, 21, 1699, 18, 17, 22, 1699, 18, 17, 23, 1699, 18, 17, 24, 1699, 18, 18, 15, 1699, 18, 18, 16, 1699, 18, 18, 17, 1699, 18, 18, 18, 1699, 18, 18, 19, 1699, 18, 18, 20, 1699, 18, 18, 21, 1699, 18, 18, 22, 1699, 18, 18, 23, 1699, 18, 18, 24, 1699, 18, 19, 15, 1699, 18, 19, 16, 1699, 18, 19, 17, 1699, 18, 19, 18, 1699, 18, 19, 19, 1699, 18, 19, 20, 1699, 18, 19, 21, 1699, 18, 19, 22, 1699, 18, 19, 23, 1699, 18, 19, 24, 1699, 18, 20, 15, 1699, 18, 20, 16, 1699, 18, 20, 17, 1699, 18, 20, 18, 1699, 18, 20, 19, 1699, 18, 20, 20, 1699, 18, 20, 21, 1699, 18, 20, 22, 1699, 18, 20, 23, 1699, 18, 20, 24, 1699, 18, 21, 15, 1699, 18, 21, 16, 1699, 18, 21, 17, 1699, 18, 21, 18, 1699, 18, 21, 19, 1699, 18, 21, 20, 1699, 18, 21, 21, 1699, 18, 21, 22, 1699, 18, 21, 23, 1699, 18, 21, 24, 1699, 18, 22, 15, 1699, 18, 22, 16, 1699, 18, 22, 17, 1699, 18, 22, 18, 1699, 18, 22, 19, 1699, 18, 22, 20, 1699, 18, 22, 21, 1699, 18, 22, 22, 1699, 18, 22, 23, 1699, 18, 22, 24, 1699, 18, 23, 15, 1699, 18, 23, 16, 1699, 18, 23, 17, 1699, 18, 23, 18, 1699, 18, 23, 19, 1699, 18, 23, 20, 1699, 18, 23, 21, 1699, 18, 23, 22, 1699, 18, 23, 23, 1699, 18, 23, 24, 1699, 18, 24, 15, 1699, 18, 24, 16, 1699, 18, 24, 17, 1699, 18, 24, 18, 1699, 18, 24, 19, 1699, 18, 24, 20, 1699, 18, 24, 21, 1699, 18, 24, 22, 1699, 18, 24, 23, 1699, 18, 24, 24, 1699, 2556, 220, 17, 25, 576, 11414, 315, 882, 23393, 429, 6644, 518, 3245, 825, 882, 3950, 11, 323, 279, 5461, 3084, 315, 882, 23393, 7110, 77, 33363, 55348, 23565, 17287, 4120, 25828, 220, 24, 20, 13, 16, 20, 220, 17, 13, 15, 15, 44134, 672, 539, 220, 24, 22, 13, 21, 24, 220, 16, 13, 22, 15, 29228, 98970, 220, 24, 18, 13, 16, 23, 220, 17, 13, 18, 23, 77701, 220, 24, 22, 13, 23, 16, 220, 16, 13, 20, 16, 1699, 2556, 220, 18, 25, 5624, 315, 12460, 4244, 323, 1372, 315, 12460, 882, 11211, 304, 882, 23393, 7110, 77, 33363, 671, 23489, 671, 1462, 58166, 4120, 25828, 220, 16, 18, 15, 220, 21, 19, 44134, 672, 539, 220, 17, 16, 19, 220, 23, 15, 29228, 98970, 220, 17, 17, 19, 220, 22, 19, 77701, 220, 16, 15, 22, 220, 21, 19, 1699, 1499, 220, 18, 21, 13, 17, 18, 4, 304, 29228, 98970, 311, 220, 21, 17, 13, 24, 16, 4, 304, 77701, 13, 758, 41787, 10535, 1251, 8376, 311, 990, 4244, 304, 8028, 3084, 311, 3158, 882, 1995, 13, 576, 4843, 3250, 304, 6633, 220, 17, 6682, 279, 5461, 3084, 315, 882, 23393, 13, 1913, 5461, 11, 882, 23393, 6644, 911, 1378, 4244, 7110, 77, 37763, 367, 220, 17, 8278, 264, 2613, 1874, 315, 882, 13904, 20844, 525, 1483, 311, 3158, 882, 1995, 7110, 77, 3830, 279, 882, 23393, 304, 678, 3040, 29425, 11, 582, 22986, 429, 279, 1874, 315, 20844, 1483, 311, 3158, 882, 1995, 374, 2613, 7110, 77, 2556, 220, 18, 6682, 279, 1372, 315, 12460, 4244, 323, 315, 12460, 882, 11211, 13, 576, 4244, 5523, 9713, 525, 20083, 29410, 1573, 25009, 323, 862, 26012, 525, 12036, 13, 1752, 3110, 11, 3369, 10249, 527, 323, 3369, 20, 23570, 527, 525, 29994, 438, 825, 3950, 3369, 10249, 14304, 47124, 1127, 304, 279, 25009, 525, 12036, 13, 17715, 279, 2155, 12282, 304, 279, 3040, 29425, 11, 279, 5109, 315, 12460, 882, 11211, 525, 29039, 7110, 77, 37763, 367, 220, 18, 4398, 1091, 220, 24, 18, 4, 315, 882, 23393, 6644, 518, 3245, 825, 882, 3950, 7110, 88230, 2086, 3250, 304, 6633, 220, 17, 6682, 279, 11414, 315, 882, 23393, 429, 6644, 518, 3245, 825, 882, 3950, 13, 4657, 13267, 429, 518, 3245, 220, 24, 18, 13, 16, 23, 4, 315, 882, 23393, 6644, 882, 3950, 1141, 701, 892, 13230, 429, 311, 15282, 279, 882, 23393, 11, 432, 374, 7565, 311, 15282, 862, 882, 11211, 7110, 77, 37763, 367, 220, 19, 3660, 8668, 1331, 39586, 320, 17456, 8, 1410, 537, 32037, 882, 23393, 504, 4185, 4244, 11, 714, 2878, 882, 23393, 11, 26494, 646, 1492, 32037, 862, 50620, 7110, 77, 2461, 1817, 10337, 582, 1140, 279, 1909, 220, 16, 15, 26494, 9492, 429, 4994, 304, 882, 23393, 11, 323, 862, 53108, 916, 4361, 1467, 13, 21658, 279, 220, 19, 15, 9492, 320, 16, 15, 24768, 220, 19, 29425, 701, 220, 18, 21, 614, 11414, 4722, 1091, 220, 16, 15, 16175, 1008, 220, 19, 525, 11078, 13, 1096, 14807, 429, 26494, 1410, 537, 3410, 3322, 1995, 311, 32037, 882, 23393, 504, 4185, 4244, 13, 4354, 11, 279, 1429, 4185, 26494, 9492, 304, 882, 23393, 525, 44678, 12314, 70040, 11, 27974, 11, 11078, 11, 323, 25014, 13, 24236, 882, 23393, 11, 279, 882, 11211, 5990, 614, 44678, 9, 323, 27974, 11, 279, 35670, 614, 70040, 323, 27974, 11, 323, 279, 7857, 1127, 614, 11078, 13, 1096, 21930, 14807, 429, 369, 279, 882, 23393, 11, 862, 4428, 50620, 35692, 304, 4428, 83187, 23170, 1616, 13, 3197, 9120, 419, 11, 582, 13083, 429, 419, 374, 6896, 1246, 38503, 1671, 6979, 949, 8668, 1331, 39586, 369, 4128, 13, 220, 18, 576, 7271, 315, 26494, 369, 4128, 69290, 601, 311, 6979, 264, 83187, 23170, 943, 1849, 369, 279, 882, 7493, 11, 949, 315, 4128, 7110, 88230, 3040, 23722, 678, 28143, 311, 279, 17508, 315, 3245, 5041, 320, 31047, 69, 11, 220, 16, 24, 19, 24, 568, 2938, 374, 11, 1251, 686, 1160, 1212, 279, 3245, 5041, 773, 438, 311, 29337, 279, 2783, 315, 4802, 518, 2176, 3842, 323, 21750, 2188, 311, 279, 4128, 10431, 320, 31047, 69, 11, 220, 16, 24, 19, 24, 568, 4120, 7493, 374, 949, 315, 4128, 323, 14056, 438, 458, 3749, 315, 10535, 13, 10698, 23393, 11, 2613, 34918, 11, 31559, 11, 323, 4428, 83187, 23170, 27099, 678, 7949, 279, 2783, 315, 4802, 2567, 311, 19032, 7110, 77, 1249, 62079, 25, 1913, 5461, 11, 264, 882, 7493, 5610, 1378, 11211, 315, 892, 825, 374, 882, 3950, 323, 279, 1008, 374, 22739, 14, 2413, 3253, 11, 323, 279, 1379, 315, 882, 11211, 374, 2613, 13, 2014, 15282, 264, 882, 7493, 11, 8916, 11, 582, 1156, 15282, 279, 882, 3950, 11, 1221, 15282, 279, 22739, 14, 2413, 3253, 3159, 2137, 5360, 11412, 1210, 364, 19, 23153, 1462, 25, 5718, 406, 23170, 20768, 323, 8993, 1260, 34456, 22847, 516, 364, 1318, 1210, 364, 22029, 220, 17, 4933, 279, 23251, 315, 23153, 1462, 13, 1417, 779, 304, 279, 2115, 24413, 3108, 315, 279, 7071, 11, 23153, 1462, 374, 17271, 448, 5792, 23393, 916, 11211, 13, 4636, 17465, 23153, 1462, 646, 387, 5961, 9251, 389, 1467, 11, 2041, 4862, 13, 1913, 279, 1008, 1424, 11, 23153, 1462, 646, 387, 6707, 17183, 553, 7842, 9021, 301, 657, 3950, 5792, 23393, 504, 4862, 1467, 13, 576, 14461, 20081, 23153, 1462, 311, 15282, 882, 23393, 304, 1467, 504, 2155, 4494, 323, 504, 2155, 30476, 7110, 77, 58997, 304, 279, 1290, 24413, 3108, 315, 19037, 220, 17, 11, 23153, 1462, 48083, 882, 7493, 5646, 2326, 1887, 7354, 13, 758, 279, 1156, 3019, 11, 23153, 1462, 35511, 1699, 18, 2073, 2718, 84, 1671, 1874, 1045, 4244, 315, 4128, 1119, 6846, 320, 4917, 8, 892, 1473, 4428, 83187, 23170, 16999, 1987, 320, 44, 5947, 323, 5016, 332, 2986, 11, 220, 16, 24, 24, 24, 10699, 77, 20, 1699, 19, 15, 16, 1699, 19, 15, 17, 1699, 19, 15, 18, 1699, 19, 15, 19, 1699, 19, 15, 20, 1699, 19, 15, 21, 1699, 19, 15, 22, 1699, 19, 15, 23, 1699, 19, 15, 24, 1699, 19, 16, 15, 1699, 19, 16, 16, 1699, 19, 16, 17, 1699, 19, 16, 18, 1699, 19, 16, 19, 1699, 19, 16, 20, 1699, 19, 16, 21, 1699, 19, 16, 22, 1699, 19, 16, 23, 1699, 19, 16, 24, 1699, 19, 17, 15, 1699, 19, 17, 16, 1699, 19, 17, 17, 1699, 19, 17, 18, 1699, 19, 17, 19, 1699, 19, 17, 20, 1699, 19, 17, 21, 1699, 19, 17, 22, 1699, 19, 17, 23, 1699, 19, 17, 24, 1699, 19, 18, 15, 1699, 19, 18, 16, 1699, 19, 18, 17, 1699, 19, 18, 18, 1699, 19, 18, 19, 1699, 19, 18, 20, 1699, 19, 18, 21, 1699, 19, 18, 22, 1699, 19, 18, 23, 1699, 19, 18, 24, 1699, 19, 19, 15, 1699, 19, 19, 16, 1699, 19, 19, 17, 1699, 19, 19, 18, 1699, 19, 19, 19, 1699, 19, 19, 20, 1699, 19, 19, 21, 1699, 19, 19, 22, 1699, 19, 19, 23, 1699, 19, 19, 24, 1699, 19, 20, 15, 1699, 19, 20, 16, 1699, 19, 20, 17, 1699, 19, 20, 18, 1699, 19, 20, 19, 1699, 19, 20, 20, 1699, 19, 20, 21, 1699, 19, 20, 22, 1699, 19, 20, 23, 1699, 19, 20, 24, 1699, 19, 21, 15, 1699, 19, 21, 16, 1699, 19, 21, 17, 1699, 19, 21, 18, 1699, 19, 21, 19, 1699, 19, 21, 20, 1699, 19, 21, 21, 1699, 19, 21, 22, 1699, 19, 21, 23, 1699, 19, 21, 24, 1699, 19, 22, 15, 1699, 19, 22, 16, 1699, 19, 22, 17, 1699, 19, 22, 18, 1699, 19, 22, 19, 1699, 19, 22, 20, 1699, 19, 22, 21, 1699, 19, 22, 22, 1699, 19, 22, 23, 1699, 19, 22, 24, 1699, 19, 23, 15, 1699, 19, 23, 16, 1699, 19, 23, 17, 1699, 19, 23, 18, 1699, 19, 23, 19, 1699, 19, 23, 20, 1699, 19, 23, 21, 1699, 19, 23, 22, 1699, 19, 23, 23, 1699, 19, 23, 24, 1699, 19, 24, 15, 1699, 19, 24, 16, 1699, 19, 24, 17, 1699, 19, 24, 18, 1699, 19, 24, 19, 1699, 19, 24, 20, 1699, 19, 24, 21, 1699, 19, 24, 22, 1699, 19, 24, 23, 1699, 19, 24, 24, 1699, 22029, 220, 17, 25, 34807, 315, 23153, 1462, 13, 13727, 24413, 3108, 4933, 279, 8086, 315, 23153, 1462, 11, 448, 17465, 1667, 3950, 5792, 23393, 11, 323, 10101, 14461, 1667, 4862, 1467, 13, 10083, 24413, 3108, 4933, 279, 1887, 7354, 429, 23153, 1462, 44699, 882, 23393, 7110, 77, 1782, 882, 11211, 504, 26494, 38204, 3556, 7112, 1467, 13, 5005, 2163, 279, 882, 11211, 23153, 1462, 26475, 369, 35670, 323, 7857, 1127, 311, 1352, 882, 20632, 13, 758, 279, 1537, 3019, 11, 23153, 1462, 28475, 279, 882, 20632, 311, 882, 23393, 3159, 2137, 5360, 11412, 1210, 364, 19, 13, 16, 23153, 1462, 24026, 516, 364, 1318, 1210, 364, 1654, 6979, 264, 83187, 23170, 943, 1849, 369, 882, 7493, 11, 11689, 11, 220, 16, 20, 4494, 369, 882, 11211, 11, 220, 20, 4494, 369, 35670, 11, 323, 220, 16, 943, 369, 83292, 7110, 77, 1462, 9660, 13, 1205, 6979, 220, 16, 20, 4494, 369, 279, 882, 11211, 323, 990, 862, 5036, 4428, 311, 619, 13993, 1462, 6846, 25, 220, 19, 3385, 28056, 10293, 701, 50905, 10293, 701, 5052, 35304, 320, 20, 701, 57980, 320, 16, 17, 701, 57429, 320, 22, 701, 28543, 10293, 701, 22236, 10293, 701, 37688, 22236, 320, 17, 22, 701, 17742, 2749, 3981, 320, 16, 17, 701, 472, 58251, 3022, 320, 17, 15, 701, 17854, 33291, 320, 24, 701, 422, 28328, 10293, 701, 22236, 38202, 320, 16, 20, 701, 22236, 1863, 5225, 320, 21, 701, 323, 44020, 320, 17, 568, 5624, 304, 3369, 368, 527, 14807, 279, 1372, 315, 12460, 11211, 304, 419, 943, 11, 2041, 25009, 26012, 13, 3369, 12, 527, 14807, 279, 943, 17601, 10018, 18509, 323, 4157, 387, 29994, 7110, 77, 34405, 13, 1205, 6979, 220, 18, 4494, 369, 279, 35670, 4092, 311, 862, 3204, 9892, 8674, 311, 882, 11211, 13, 5650, 11836, 429, 4994, 1573, 882, 11211, 525, 69978, 320, 19, 23, 1215, 35670, 1283, 882, 11211, 525, 328, 53733, 320, 17, 568, 40491, 3585, 320, 19, 8, 2656, 1378, 882, 11211, 13, 30809, 11, 582, 6979, 220, 17, 3281, 22739, 4494, 11, 7682, 4835, 320, 16, 8, 369, 31683, 3369, 22384, 323, 1964, 91915, 320, 17, 8, 369, 80856, 9709, 3369, 64, 527, 323, 3369, 276, 14304, 59, 77, 19, 1758, 1110, 2136, 49268, 2659, 4437, 13993, 7246, 34319, 77, 1462, 2668, 320, 47, 590, 35468, 78578, 1842, 452, 2572, 220, 17, 15, 15, 18, 64, 8, 323, 4120, 25828, 320, 47, 590, 35468, 78578, 1842, 452, 2572, 220, 17, 15, 15, 18, 65, 8, 653, 537, 4228, 1429, 855, 27436, 1075, 3369, 263, 527, 438, 264, 949, 315, 882, 23393, 13, 14301, 23153, 1462, 1558, 537, 6530, 1846, 855, 27436, 7110, 77, 4651, 3253, 13, 5624, 304, 882, 23393, 646, 387, 264, 882, 3950, 384, 1302, 2572, 3369, 16, 15, 527, 304, 3369, 30194, 220, 16, 15, 11, 220, 17, 15, 16, 21, 22384, 476, 264, 22739, 384, 1302, 2572, 3369, 16, 15, 527, 304, 3369, 16, 15, 2849, 14304, 1205, 6979, 15943, 83994, 10293, 8, 369, 279, 6013, 23695, 323, 5109, 7110, 77, 37134, 1462, 39267, 13, 576, 3950, 5792, 23393, 369, 57060, 23153, 1462, 525, 14548, 504, 328, 1381, 545, 11, 20, 264, 1584, 8668, 10603, 37821, 5912, 5980, 4772, 1389, 429, 16994, 279, 8426, 19091, 304, 19944, 54469, 18, 320, 1143, 524, 323, 39523, 11, 220, 17, 15, 16, 17, 11, 220, 17, 15, 16, 18, 568, 44763, 11, 582, 6530, 504, 328, 1381, 545, 1172, 279, 11211, 323, 279, 5792, 23393, 916, 11211, 11, 323, 37867, 1181, 1008, 5601, 315, 48083, 2480, 882, 23393, 3159, 2137, 5360, 11412, 1210, 364, 19, 13, 17, 4120, 16378, 47598, 516, 364, 1318, 1210, 364, 1925, 279, 4494, 11, 23153, 1462, 14431, 4285, 66609, 5601, 311, 15282, 882, 23393, 13, 576, 17843, 1882, 5646, 2326, 1887, 7354, 25, 320, 16, 8, 4120, 3950, 21892, 11, 320, 17, 8, 882, 10238, 21892, 11, 323, 320, 18, 8, 882, 7493, 32189, 3159, 2137, 5360, 11412, 1210, 364, 19, 13, 17, 13, 16, 4120, 9660, 58676, 516, 364, 1318, 1210, 364, 28301, 7766, 4120, 11211, 374, 4285, 323, 30339, 11, 1526, 12579, 315, 914, 323, 5792, 7493, 13, 4329, 4244, 2578, 5240, 71768, 13, 1752, 3110, 3369, 11109, 527, 1410, 387, 264, 13228, 18607, 11, 476, 279, 17702, 2254, 315, 1042, 13, 2014, 4051, 700, 279, 54761, 4244, 11, 582, 990, 26494, 1995, 13, 758, 8129, 11, 582, 990, 30688, 26494, 350, 10114, 11, 220, 21, 323, 279, 26494, 9492, 369, 12579, 279, 13121, 315, 23153, 1462, 4494, 525, 3118, 389, 1039, 86429, 220, 19, 304, 11113, 220, 18, 13, 17, 3159, 2137, 5360, 11412, 1210, 364, 19, 13, 17, 13, 17, 4120, 37103, 58676, 516, 364, 1318, 1210, 364, 785, 3383, 315, 882, 10238, 21892, 374, 311, 2711, 279, 14590, 315, 1817, 882, 3950, 10820, 304, 3681, 3019, 369, 279, 35670, 323, 7857, 1127, 11, 1221, 9567, 279, 882, 3950, 448, 1181, 35670, 323, 7857, 1127, 311, 1352, 264, 882, 10238, 13, 576, 15039, 374, 1212, 4285, 66609, 5601, 304, 892, 279, 1376, 4522, 374, 311, 9225, 279, 882, 3950, 748, 22711, 7110, 77, 1655, 1156, 11, 1817, 882, 3950, 374, 264, 882, 10238, 13, 1416, 432, 374, 2987, 264, 17854, 33291, 476, 422, 28328, 11, 1221, 902, 1184, 311, 4623, 2711, 13, 18214, 11, 2711, 1181, 2115, 323, 1181, 1290, 369, 35670, 323, 7857, 1127, 13, 1752, 279, 2115, 15039, 11, 421, 12828, 264, 69978, 476, 15943, 83994, 476, 1964, 91915, 11, 1221, 3060, 15039, 13, 1752, 279, 1290, 1699, 20, 3703, 1110, 5204, 905, 14272, 94103, 77, 13545, 54164, 45, 12567, 62978, 34319, 77, 13629, 13437, 14, 55101, 14272, 94103, 9612, 13545, 35263, 95489, 220, 21, 1758, 1110, 77, 13545, 1236, 94103, 12586, 78727, 76196, 1389, 91387, 1699, 21, 1699, 20, 15, 16, 1699, 20, 15, 17, 1699, 20, 15, 18, 1699, 20, 15, 19, 1699, 20, 15, 20, 1699, 20, 15, 21, 1699, 20, 15, 22, 1699, 20, 15, 23, 1699, 20, 15, 24, 1699, 20, 16, 15, 1699, 20, 16, 16, 1699, 20, 16, 17, 1699, 20, 16, 18, 1699, 20, 16, 19, 1699, 20, 16, 20, 1699, 20, 16, 21, 1699, 20, 16, 22, 1699, 20, 16, 23, 1699, 20, 16, 24, 1699, 20, 17, 15, 1699, 20, 17, 16, 1699, 20, 17, 17, 1699, 20, 17, 18, 1699, 20, 17, 19, 1699, 20, 17, 20, 1699, 20, 17, 21, 1699, 20, 17, 22, 1699, 20, 17, 23, 1699, 20, 17, 24, 1699, 20, 18, 15, 1699, 20, 18, 16, 1699, 20, 18, 17, 1699, 20, 18, 18, 1699, 20, 18, 19, 1699, 20, 18, 20, 1699, 20, 18, 21, 1699, 20, 18, 22, 1699, 20, 18, 23, 1699, 20, 18, 24, 1699, 20, 19, 15, 1699, 20, 19, 16, 1699, 20, 19, 17, 1699, 20, 19, 18, 1699, 20, 19, 19, 1699, 20, 19, 20, 1699, 20, 19, 21, 1699, 20, 19, 22, 1699, 20, 19, 23, 1699, 20, 19, 24, 1699, 20, 20, 15, 1699, 20, 20, 16, 1699, 20, 20, 17, 1699, 20, 20, 18, 1699, 20, 20, 19, 1699, 20, 20, 20, 1699, 20, 20, 21, 1699, 20, 20, 22, 1699, 20, 20, 23, 1699, 20, 20, 24, 1699, 20, 21, 15, 1699, 20, 21, 16, 1699, 20, 21, 17, 1699, 20, 21, 18, 1699, 20, 21, 19, 1699, 20, 21, 20, 1699, 20, 21, 21, 1699, 20, 21, 22, 1699, 20, 21, 23, 1699, 20, 21, 24, 1699, 20, 22, 15, 1699, 20, 22, 16, 1699, 20, 22, 17, 1699, 20, 22, 18, 1699, 20, 22, 19, 1699, 20, 22, 20, 1699, 20, 22, 21, 1699, 20, 22, 22, 1699, 20, 22, 23, 1699, 20, 22, 24, 1699, 20, 23, 15, 1699, 20, 23, 16, 1699, 20, 23, 17, 1699, 20, 23, 18, 1699, 20, 23, 19, 1699, 20, 23, 20, 1699, 20, 23, 21, 1699, 20, 23, 22, 1699, 20, 23, 23, 1699, 20, 23, 24, 1699, 20, 24, 15, 1699, 20, 24, 16, 1699, 20, 24, 17, 1699, 20, 24, 18, 1699, 20, 24, 19, 1699, 20, 24, 20, 1699, 20, 24, 21, 1699, 20, 24, 22, 1699, 20, 24, 23, 1699, 20, 24, 24, 1699, 1782, 16341, 14790, 1537, 16341, 14790, 2003, 16731, 5660, 31718, 4593, 1053, 6602, 22175, 32262, 274, 16, 274, 17, 59, 811, 16, 274, 16, 1699, 2877, 8, 15577, 73149, 882, 10238, 311, 882, 7493, 7110, 4412, 16, 274, 17, 1699, 82, 16, 1699, 1782, 16341, 14790, 4843, 14, 17488, 83994, 8338, 16731, 5660, 31718, 315, 16341, 14790, 51, 220, 16, 24, 23, 19, 39249, 20535, 1699, 1883, 8, 40085, 23942, 882, 20632, 7110, 4412, 16, 274, 17, 1699, 82, 16, 1699, 32227, 10270, 711, 3617, 220, 16, 18, 14, 17488, 83994, 220, 16, 24, 20, 16, 39249, 20535, 1699, 1337, 8, 40085, 49817, 882, 20632, 7110, 4412, 16, 274, 17, 1699, 82, 16, 1699, 27160, 10270, 711, 3617, 220, 18, 15, 14, 17488, 83994, 87682, 8696, 4835, 220, 16, 24, 24, 15, 39249, 20535, 1699, 1500, 8, 40085, 49817, 882, 20632, 7110, 4412, 16, 274, 17, 59, 811, 16, 274, 16, 1699, 23, 14, 17488, 83994, 311, 7434, 11637, 3585, 220, 17, 15, 14, 17488, 83994, 2849, 16731, 5660, 31718, 1699, 2026, 8, 4148, 28193, 882, 10238, 323, 882, 10238, 7110, 77, 22029, 220, 18, 25, 13383, 882, 20632, 323, 882, 23393, 13, 576, 9201, 3403, 525, 504, 882, 10238, 21892, 26, 279, 9201, 3685, 525, 369, 882, 7493, 32189, 7110, 77, 1836, 287, 11, 421, 12828, 264, 328, 53733, 476, 15943, 83994, 11, 1221, 3060, 15039, 13, 11733, 279, 2115, 323, 279, 1290, 15039, 686, 2936, 979, 18739, 264, 7682, 4835, 476, 40491, 3585, 476, 2477, 17078, 3049, 14, 2413, 3253, 3409, 13, 576, 2115, 15039, 686, 537, 12488, 279, 3681, 882, 3950, 26, 279, 1290, 15039, 686, 537, 12488, 279, 1790, 882, 3950, 13, 362, 882, 10238, 17167, 315, 6896, 825, 882, 3950, 11, 323, 7168, 476, 803, 35670, 14, 2413, 17368, 7110, 77, 32, 3281, 3093, 315, 882, 20632, 653, 537, 6644, 894, 882, 3950, 26, 807, 6761, 389, 1008, 882, 20632, 1790, 311, 1105, 13, 1752, 3110, 11, 304, 3369, 23, 311, 220, 17, 15, 2849, 22384, 3369, 983, 220, 17, 15, 2849, 527, 374, 264, 882, 10238, 11, 323, 3369, 23, 311, 527, 7586, 264, 17749, 882, 10238, 13, 320, 4060, 19037, 220, 18, 2026, 568, 21636, 2137, 5360, 11412, 1210, 364, 19, 13, 17, 13, 18, 4120, 16378, 94506, 516, 364, 1318, 1210, 364, 785, 3383, 315, 882, 7493, 32189, 374, 311, 8649, 882, 23393, 504, 279, 10820, 882, 20632, 304, 892, 279, 6200, 3019, 374, 311, 8253, 3425, 311, 10880, 1378, 23942, 476, 49817, 882, 20632, 1119, 264, 501, 882, 10238, 7110, 77, 1654, 8569, 279, 882, 20632, 304, 264, 11652, 504, 7167, 311, 279, 835, 13, 362, 2498, 73149, 882, 10238, 374, 264, 882, 7493, 13, 320, 4060, 19037, 220, 18, 2877, 568, 8, 576, 1887, 5244, 374, 311, 3484, 448, 1378, 476, 803, 882, 20632, 429, 525, 23942, 323, 49817, 13, 1416, 1378, 882, 20632, 274, 16, 323, 274, 17, 525, 23942, 11, 10880, 1105, 311, 1352, 1699, 64, 501, 882, 10238, 274, 16, 13, 320, 4060, 19037, 220, 18, 1883, 568, 8, 21144, 429, 274, 16, 323, 274, 17, 27248, 518, 264, 6094, 18732, 13, 10548, 311, 1039, 882, 10238, 21892, 11, 279, 6094, 18732, 1410, 387, 264, 22739, 476, 264, 83292, 13, 1416, 279, 3409, 518, 279, 6094, 18732, 374, 13866, 264, 7682, 4835, 6329, 264, 40491, 3585, 11, 1221, 10880, 274, 16, 323, 274, 17, 13, 320, 4060, 19037, 220, 18, 1337, 568, 8, 1416, 279, 3409, 374, 264, 40491, 3585, 11, 1221, 8649, 274, 16, 438, 264, 882, 7493, 323, 3060, 35101, 13, 3197, 279, 6094, 18732, 374, 264, 7682, 4835, 11, 10880, 274, 16, 323, 274, 17, 1172, 421, 279, 7682, 4835, 748, 3681, 3950, 323, 1181, 1790, 3950, 26553, 279, 2326, 4682, 25, 320, 16, 8, 576, 3681, 3950, 374, 264, 882, 3950, 476, 264, 15943, 83994, 26, 320, 17, 8, 279, 1790, 3950, 374, 264, 882, 3950, 26, 323, 320, 18, 8, 279, 4494, 315, 279, 3681, 3950, 323, 315, 279, 1790, 3950, 525, 537, 279, 1852, 13, 320, 4060, 19037, 220, 18, 1500, 568, 21636, 2137, 5360, 11412, 1210, 364, 19, 13, 18, 23153, 1462, 54554, 516, 364, 1318, 1210, 364, 37134, 1462, 14461, 7460, 279, 4244, 311, 387, 3694, 311, 387, 62851, 20083, 13, 1205, 3796, 279, 2856, 23153, 1462, 389, 279, 882, 23393, 504, 4862, 1467, 323, 1140, 279, 4244, 429, 525, 537, 9761, 13, 13139, 279, 42422, 4244, 525, 3694, 311, 23153, 1462, 374, 20083, 10838, 13, 576, 5912, 369, 25248, 374, 429, 279, 3694, 4244, 646, 537, 5240, 71768, 323, 1265, 387, 13954, 13, 29228, 98970, 10337, 5610, 264, 2421, 10295, 1075, 419, 25, 3369, 785, 882, 43212, 8643, 34095, 4311, 14304, 27630, 304, 419, 3110, 525, 9016, 52844, 11, 323, 582, 653, 537, 6530, 1105, 13, 758, 23150, 11, 389, 279, 1008, 1424, 11, 1251, 1231, 990, 4244, 527, 39515, 17144, 323, 41787, 26012, 11, 369, 3110, 11, 3369, 17, 1292, 527, 323, 3369, 83, 1292, 527, 525, 5411, 12845, 819, 315, 3369, 30113, 14304, 15132, 3093, 315, 39515, 17144, 323, 41787, 26012, 686, 387, 14548, 7110, 77, 11190, 311, 1039, 23722, 11, 537, 1657, 4244, 525, 1483, 311, 3158, 882, 1995, 11, 279, 11376, 5256, 315, 20844, 8450, 686, 537, 2783, 1753, 13, 758, 5256, 11, 582, 1477, 429, 1496, 304, 23150, 1251, 8376, 311, 990, 15908, 4244, 13, 758, 279, 6271, 3409, 26968, 16176, 504, 220, 20, 21, 3526, 6364, 23150, 11, 220, 22, 279, 1429, 3545, 1483, 4244, 525, 279, 15908, 4244, 11, 323, 862, 33773, 525, 1753, 7046, 1091, 41787, 4244, 23616, 576, 10652, 315, 3369, 30113, 22384, 220, 23, 369, 3110, 11, 1181, 1429, 3545, 990, 374, 279, 15908, 825, 11, 3369, 30113, 22384, 892, 7952, 220, 16, 11, 17, 17, 15, 11, 23, 17, 24, 3039, 26, 1393, 1181, 2086, 1429, 3545, 990, 3369, 17, 1292, 527, 7952, 1172, 220, 18, 19, 11, 23, 17, 22, 3039, 13, 576, 3347, 4379, 315, 41787, 4244, 320, 68, 1302, 2572, 911, 220, 18, 4, 304, 3369, 30113, 527, 10652, 8, 13230, 429, 1496, 304, 41787, 4573, 279, 11376, 16174, 5256, 7049, 2632, 7110, 77, 22, 1758, 1110, 2136, 18775, 520, 15128, 12586, 14, 144775, 838, 16731, 4488, 45, 12567, 14, 18855, 56014, 77, 47622, 2564, 220, 23, 1758, 1110, 2136, 18775, 520, 15128, 12586, 14, 144775, 838, 16731, 4488, 45, 12567, 14, 21623, 14, 220, 15, 16, 16, 16, 16, 16, 16, 15, 15, 16, 15, 2564, 1699, 22, 1699, 21, 15, 16, 1699, 21, 15, 17, 1699, 21, 15, 18, 1699, 21, 15, 19, 1699, 21, 15, 20, 1699, 21, 15, 21, 1699, 21, 15, 22, 1699, 21, 15, 23, 1699, 21, 15, 24, 1699, 21, 16, 15, 1699, 21, 16, 16, 1699, 21, 16, 17, 1699, 21, 16, 18, 1699, 21, 16, 19, 1699, 21, 16, 20, 1699, 21, 16, 21, 1699, 21, 16, 22, 1699, 21, 16, 23, 1699, 21, 16, 24, 1699, 21, 17, 15, 1699, 21, 17, 16, 1699, 21, 17, 17, 1699, 21, 17, 18, 1699, 21, 17, 19, 1699, 21, 17, 20, 1699, 21, 17, 21, 1699, 21, 17, 22, 1699, 21, 17, 23, 1699, 21, 17, 24, 1699, 21, 18, 15, 1699, 21, 18, 16, 1699, 21, 18, 17, 1699, 21, 18, 18, 1699, 21, 18, 19, 1699, 21, 18, 20, 1699, 21, 18, 21, 1699, 21, 18, 22, 1699, 21, 18, 23, 1699, 21, 18, 24, 1699, 21, 19, 15, 1699, 21, 19, 16, 1699, 21, 19, 17, 1699, 21, 19, 18, 1699, 21, 19, 19, 1699, 21, 19, 20, 1699, 21, 19, 21, 1699, 21, 19, 22, 1699, 21, 19, 23, 1699, 21, 19, 24, 1699, 21, 20, 15, 1699, 21, 20, 16, 1699, 21, 20, 17, 1699, 21, 20, 18, 1699, 21, 20, 19, 1699, 21, 20, 20, 1699, 21, 20, 21, 1699, 21, 20, 22, 1699, 21, 20, 23, 1699, 21, 20, 24, 1699, 21, 21, 15, 1699, 21, 21, 16, 1699, 21, 21, 17, 1699, 21, 21, 18, 1699, 21, 21, 19, 1699, 21, 21, 20, 1699, 21, 21, 21, 1699, 21, 21, 22, 1699, 21, 21, 23, 1699, 21, 21, 24, 1699, 21, 22, 15, 1699, 21, 22, 16, 1699, 21, 22, 17, 1699, 21, 22, 18, 1699, 21, 22, 19, 1699, 21, 22, 20, 1699, 21, 22, 21, 1699, 21, 22, 22, 1699, 21, 22, 23, 1699, 21, 22, 24, 1699, 21, 23, 15, 1699, 21, 23, 16, 1699, 21, 23, 17, 1699, 21, 23, 18, 1699, 21, 23, 19, 1699, 21, 23, 20, 1699, 21, 23, 21, 1699, 21, 23, 22, 1699, 21, 23, 23, 1699, 21, 23, 24, 1699, 21, 24, 15, 1699, 21, 24, 16, 1699, 21, 24, 17, 1699, 21, 24, 18, 1699, 21, 24, 19, 1699, 21, 24, 20, 1699, 21, 24, 21, 1699, 21, 24, 22, 1699, 21, 24, 23, 1699, 21, 24, 24, 24731, 5360, 11412, 1210, 364, 20, 1374, 49632, 516, 364, 1318, 1210, 364, 1654, 6786, 21204, 389, 2326, 29425, 323, 9429, 23153, 1462, 448, 2326, 1584, 8668, 10603, 37821, 3046, 10999, 25, 1260, 26802, 1462, 11, 328, 1381, 545, 11, 323, 65616, 1462, 13, 1752, 23153, 1462, 582, 1895, 279, 3059, 315, 1181, 1378, 10795, 25, 23153, 1462, 21477, 323, 23153, 1462, 13431, 13, 23153, 1462, 21477, 374, 279, 2856, 2319, 11, 323, 23153, 1462, 13431, 374, 279, 17183, 2319, 553, 7842, 20844, 311, 23153, 1462, 21477, 3159, 2137, 5360, 11412, 1210, 364, 20, 13, 16, 46793, 20037, 516, 364, 1318, 1210, 364, 47663, 1415, 13, 1205, 990, 1378, 28431, 29425, 11, 4120, 25828, 323, 29228, 98970, 11, 323, 825, 20083, 29829, 77701, 10337, 13, 11113, 220, 18, 13, 16, 4933, 3565, 315, 4120, 25828, 323, 29228, 98970, 29425, 13, 576, 77701, 10337, 374, 14548, 504, 6271, 13, 1205, 26618, 6077, 220, 19, 15, 15, 15, 23150, 323, 990, 328, 1381, 545, 311, 4772, 1105, 13, 220, 24, 19, 17, 23150, 315, 892, 1817, 5610, 518, 3245, 825, 882, 7493, 13, 5542, 279, 9664, 220, 18, 11, 15, 20, 23, 23150, 11, 582, 26618, 6077, 220, 20, 15, 15, 323, 20083, 88398, 1105, 11, 323, 1477, 429, 1172, 220, 16, 20, 23150, 6644, 882, 23393, 13, 14301, 582, 17267, 2908, 429, 328, 1381, 545, 42294, 911, 220, 18, 4, 882, 23393, 304, 23150, 13, 1205, 1221, 20083, 88398, 279, 220, 24, 19, 17, 23150, 11, 4092, 311, 279, 10659, 315, 4120, 2668, 323, 4120, 25828, 11, 323, 633, 220, 16, 11, 16, 17, 22, 20083, 29829, 882, 23393, 13, 1752, 279, 220, 24, 19, 17, 23150, 11, 582, 26618, 6077, 220, 17, 15, 15, 23150, 438, 1273, 738, 11, 323, 279, 2732, 220, 22, 19, 17, 438, 4862, 738, 11, 1576, 264, 25869, 65616, 1462, 7460, 4862, 7110, 77, 64611, 18801, 13, 1205, 9429, 23153, 1462, 448, 5413, 25, 1260, 26802, 1462, 320, 623, 299, 136, 230, 83, 4370, 323, 479, 57937, 11, 220, 17, 15, 16, 15, 701, 328, 1381, 545, 320, 1143, 524, 323, 39523, 11, 220, 17, 15, 16, 17, 701, 323, 65616, 1462, 320, 53988, 1842, 452, 2572, 220, 17, 15, 16, 19, 568, 1260, 26802, 1462, 323, 328, 1381, 545, 2176, 525, 5912, 5980, 5413, 11, 323, 65616, 1462, 374, 264, 6832, 1714, 13, 3197, 4862, 65616, 1462, 389, 77701, 11, 582, 1430, 1378, 5003, 25, 320, 16, 8, 26125, 448, 1172, 77701, 4862, 738, 26, 320, 17, 8, 5426, 448, 4120, 25828, 323, 77701, 4862, 738, 13, 576, 2086, 6243, 82591, 10078, 2664, 1102, 323, 582, 1895, 429, 1102, 7110, 77, 82363, 54190, 13, 1205, 1795, 19944, 54469, 12, 18, 323, 990, 862, 16460, 65894, 220, 24, 311, 1895, 51359, 11, 79540, 11, 323, 434, 16, 304, 3793, 315, 7304, 2432, 323, 30367, 2432, 320, 52, 89, 57, 12715, 1842, 452, 2572, 220, 17, 15, 16, 18, 568, 24731, 5360, 11412, 1210, 364, 20, 13, 17, 46793, 5714, 516, 364, 1318, 1210, 364, 2556, 220, 19, 6682, 279, 8084, 817, 802, 76, 681, 13, 21658, 279, 220, 16, 23, 10953, 11, 23153, 1462, 21477, 323, 23153, 1462, 13431, 11075, 220, 16, 17, 1850, 3059, 323, 220, 16, 18, 2086, 1850, 3059, 13, 37167, 279, 7304, 2432, 389, 29228, 98970, 10337, 26266, 77, 24, 1758, 1110, 2136, 18775, 30842, 14819, 12586, 14, 144775, 3376, 1116, 329, 14, 870, 375, 831, 18, 34319, 406, 6178, 20991, 1699, 21028, 23153, 1462, 21477, 323, 23153, 1462, 13431, 11075, 434, 16, 3403, 220, 24, 16, 14360, 1752, 279, 30367, 2432, 389, 678, 2326, 29425, 11, 23153, 1462, 21477, 323, 23153, 1462, 13431, 11075, 40131, 3403, 220, 24, 17, 14360, 576, 1550, 40131, 525, 12966, 448, 1039, 21930, 429, 518, 3245, 220, 24, 18, 13, 16, 23, 4, 315, 882, 23393, 6644, 882, 3950, 1141, 568, 320, 4060, 6633, 220, 17, 6138, 1096, 14807, 429, 23153, 1462, 14521, 1429, 315, 882, 11211, 13, 1913, 77701, 10337, 11, 23153, 1462, 21477, 323, 23153, 1462, 13431, 11075, 47198, 1661, 5068, 13, 10964, 434, 16, 5545, 220, 24, 16, 13, 22, 19, 4, 448, 220, 16, 16, 13, 18, 22, 4, 15673, 304, 7304, 2432, 323, 220, 24, 20, 13, 23, 22, 4, 448, 220, 21, 13, 18, 18, 4, 15673, 304, 30367, 2432, 13, 576, 7966, 525, 429, 304, 41787, 4573, 1251, 8376, 311, 990, 882, 23393, 304, 8028, 3084, 11, 320, 21, 17, 13, 24, 16, 4, 315, 825, 37328, 882, 23393, 304, 77701, 26, 1490, 19037, 220, 16, 6138, 279, 1379, 315, 882, 20844, 374, 2613, 11, 320, 3243, 220, 21, 15, 12460, 882, 11211, 26, 1490, 6633, 220, 18, 6138, 323, 1496, 304, 23150, 1251, 8376, 311, 990, 15908, 4244, 13, 320, 4060, 11113, 220, 19, 13, 18, 369, 1039, 9271, 504, 6271, 3409, 26968, 6138, 1752, 16052, 11, 23153, 1462, 82591, 29039, 3059, 304, 7304, 2432, 323, 26674, 10078, 65181, 304, 30367, 2432, 3159, 2137, 5360, 11412, 1210, 364, 20, 13, 17, 13, 16, 23153, 1462, 21477, 348, 514, 13, 14662, 4834, 18801, 516, 364, 1318, 1210, 364, 1925, 4120, 25828, 10337, 11, 23153, 1462, 21477, 82591, 434, 16, 315, 220, 24, 17, 13, 15, 24, 4, 304, 7304, 2432, 323, 315, 220, 24, 19, 13, 24, 21, 4, 304, 30367, 2432, 13, 1913, 77701, 11, 23153, 1462, 21477, 82591, 220, 24, 16, 13, 22, 19, 4, 323, 220, 24, 20, 13, 23, 22, 13384, 15576, 13, 1084, 700, 712, 9807, 678, 279, 25869, 5413, 13, 576, 2874, 374, 429, 369, 279, 5912, 29939, 882, 4772, 10637, 11, 862, 5601, 525, 6188, 304, 264, 8356, 1616, 11, 31061, 24177, 13, 1752, 3110, 11, 328, 1381, 545, 1410, 15282, 3369, 16, 1042, 527, 714, 537, 3369, 3157, 220, 16, 14304, 1752, 279, 5662, 6832, 3118, 5413, 11, 1045, 315, 279, 4419, 807, 1483, 3520, 12898, 279, 60866, 13, 4120, 23393, 21058, 5008, 1657, 10018, 5109, 892, 304, 5577, 7802, 279, 5383, 17843, 13, 1752, 3110, 11, 432, 374, 5000, 311, 1936, 3633, 1948, 3369, 27160, 220, 18, 15, 11, 220, 16, 24, 24, 15, 527, 323, 3369, 30194, 220, 16, 17, 11, 220, 17, 15, 15, 23, 527, 518, 279, 2188, 315, 3409, 476, 315, 3668, 13, 3776, 23776, 374, 311, 2908, 264, 943, 5980, 6832, 1714, 429, 1410, 990, 943, 1995, 13, 1752, 3110, 11, 279, 3403, 1378, 882, 23393, 8300, 311, 279, 1852, 5383, 315, 3369, 94314, 15943, 83994, 7682, 4835, 50905, 527, 518, 279, 2188, 315, 943, 13, 26494, 374, 264, 3093, 315, 943, 1995, 13, 1988, 4092, 311, 1039, 6358, 11, 26494, 1410, 537, 32037, 882, 23393, 504, 4185, 4244, 13, 19710, 1184, 15516, 29729, 13, 1913, 29228, 98970, 11, 23153, 1462, 21477, 82591, 14680, 3059, 304, 2176, 9071, 13, 4120, 23393, 304, 29228, 98970, 2924, 10077, 315, 855, 27436, 323, 5008, 264, 2421, 52844, 882, 23393, 13, 23153, 1462, 1410, 537, 7225, 15282, 1741, 12829, 315, 882, 23393, 1576, 432, 11017, 4120, 2668, 323, 4120, 25828, 7110, 77, 23, 1699, 22, 15, 16, 1699, 22, 15, 17, 1699, 22, 15, 18, 1699, 22, 15, 19, 1699, 22, 15, 20, 1699, 22, 15, 21, 1699, 22, 15, 22, 1699, 22, 15, 23, 1699, 22, 15, 24, 1699, 22, 16, 15, 1699, 22, 16, 16, 1699, 22, 16, 17, 1699, 22, 16, 18, 1699, 22, 16, 19, 1699, 22, 16, 20, 1699, 22, 16, 21, 1699, 22, 16, 22, 1699, 22, 16, 23, 1699, 22, 16, 24, 1699, 22, 17, 15, 1699, 22, 17, 16, 1699, 22, 17, 17, 1699, 22, 17, 18, 1699, 22, 17, 19, 1699, 22, 17, 20, 1699, 22, 17, 21, 1699, 22, 17, 22, 1699, 22, 17, 23, 1699, 22, 17, 24, 1699, 22, 18, 15, 1699, 22, 18, 16, 1699, 22, 18, 17, 1699, 22, 18, 18, 1699, 22, 18, 19, 1699, 22, 18, 20, 1699, 22, 18, 21, 1699, 22, 18, 22, 1699, 22, 18, 23, 1699, 22, 18, 24, 1699, 22, 19, 15, 1699, 22, 19, 16, 1699, 22, 19, 17, 1699, 22, 19, 18, 1699, 22, 19, 19, 1699, 22, 19, 20, 1699, 22, 19, 21, 1699, 22, 19, 22, 1699, 22, 19, 23, 1699, 22, 19, 24, 1699, 22, 20, 15, 1699, 22, 20, 16, 1699, 22, 20, 17, 1699, 22, 20, 18, 1699, 22, 20, 19, 1699, 22, 20, 20, 1699, 22, 20, 21, 1699, 22, 20, 22, 1699, 22, 20, 23, 1699, 22, 20, 24, 1699, 22, 21, 15, 1699, 22, 21, 16, 1699, 22, 21, 17, 1699, 22, 21, 18, 1699, 22, 21, 19, 1699, 22, 21, 20, 1699, 22, 21, 21, 1699, 22, 21, 22, 1699, 22, 21, 23, 1699, 22, 21, 24, 1699, 22, 22, 15, 1699, 22, 22, 16, 1699, 22, 22, 17, 1699, 22, 22, 18, 1699, 22, 22, 19, 1699, 22, 22, 20, 1699, 22, 22, 21, 1699, 22, 22, 22, 1699, 22, 22, 23, 1699, 22, 22, 24, 1699, 22, 23, 15, 1699, 22, 23, 16, 1699, 22, 23, 17, 1699, 22, 23, 18, 1699, 22, 23, 19, 1699, 22, 23, 20, 1699, 22, 23, 21, 1699, 22, 23, 22, 1699, 22, 23, 23, 1699, 22, 23, 24, 1699, 22, 24, 15, 1699, 22, 24, 16, 1699, 22, 24, 17, 1699, 22, 24, 18, 1699, 22, 24, 19, 1699, 22, 24, 20, 1699, 22, 24, 21, 1699, 22, 24, 22, 1699, 22, 24, 23, 1699, 22, 24, 24, 1699, 2556, 220, 19, 25, 27893, 5068, 13, 576, 1850, 3059, 525, 304, 13939, 3579, 323, 279, 2086, 1850, 525, 1212, 15121, 13, 4329, 3059, 525, 45564, 504, 862, 4024, 15689, 323, 279, 15689, 525, 16317, 553, 279, 15057, 7110, 77, 33363, 6730, 52881, 14152, 6512, 51451, 14152, 2340, 13, 1032, 13, 434, 16, 2340, 13, 1032, 13, 434, 16, 1699, 1462, 25828, 1699, 1519, 26802, 1462, 7, 623, 4640, 4370, 1842, 452, 2572, 220, 17, 15, 16, 18, 8, 220, 23, 18, 13, 23, 20, 220, 22, 23, 13, 24, 24, 220, 23, 16, 13, 18, 19, 220, 24, 18, 13, 15, 23, 220, 23, 22, 13, 21, 23, 220, 24, 15, 13, 18, 15, 328, 1381, 545, 7, 1143, 524, 323, 39523, 11, 220, 17, 15, 16, 18, 8, 220, 22, 23, 13, 22, 17, 220, 23, 15, 13, 19, 18, 220, 22, 24, 13, 20, 22, 220, 23, 24, 13, 18, 21, 220, 24, 16, 13, 18, 15, 220, 24, 15, 13, 18, 17, 1699, 52, 54, 1462, 4957, 2127, 1842, 452, 2572, 220, 17, 15, 16, 19, 8, 220, 23, 21, 13, 16, 15, 220, 23, 15, 13, 19, 15, 220, 23, 18, 13, 16, 15, 220, 24, 19, 13, 21, 15, 220, 23, 23, 13, 19, 15, 220, 24, 16, 13, 19, 15, 23153, 1462, 21477, 220, 24, 16, 13, 19, 18, 220, 24, 17, 13, 22, 20, 220, 24, 17, 13, 15, 24, 220, 24, 19, 13, 17, 24, 220, 24, 20, 13, 21, 20, 220, 24, 19, 13, 24, 21, 23153, 1462, 13431, 220, 24, 16, 13, 19, 24, 220, 24, 18, 13, 19, 23, 220, 24, 17, 13, 19, 22, 220, 24, 18, 13, 21, 17, 220, 24, 20, 13, 21, 20, 220, 24, 19, 13, 21, 17, 1699, 53896, 98970, 1699, 1519, 26802, 1462, 4957, 2127, 1842, 452, 2572, 220, 17, 15, 16, 19, 8, 220, 23, 20, 13, 17, 15, 220, 22, 24, 13, 18, 15, 220, 23, 17, 13, 16, 15, 220, 24, 17, 13, 21, 15, 220, 23, 21, 13, 17, 15, 220, 23, 24, 13, 18, 15, 328, 1381, 545, 220, 22, 23, 13, 21, 16, 220, 22, 21, 13, 21, 24, 220, 22, 21, 13, 21, 19, 220, 24, 20, 13, 22, 19, 220, 23, 24, 13, 20, 22, 220, 24, 17, 13, 20, 20, 1699, 52, 54, 1462, 4957, 2127, 1842, 452, 2572, 220, 17, 15, 16, 19, 8, 220, 23, 22, 13, 22, 15, 220, 22, 23, 13, 23, 15, 220, 23, 18, 13, 15, 15, 220, 24, 22, 13, 21, 15, 220, 23, 22, 13, 21, 15, 220, 24, 17, 13, 18, 15, 23153, 1462, 21477, 220, 23, 15, 13, 15, 15, 220, 23, 15, 13, 17, 17, 220, 23, 15, 13, 16, 16, 220, 24, 17, 13, 16, 21, 220, 24, 17, 13, 19, 16, 220, 24, 17, 13, 17, 24, 23153, 1462, 13431, 220, 22, 24, 13, 16, 23, 220, 23, 18, 13, 19, 22, 220, 23, 16, 13, 17, 22, 220, 24, 15, 13, 19, 24, 220, 24, 20, 13, 18, 24, 220, 24, 17, 13, 23, 23, 1699, 51, 25415, 1699, 1519, 26802, 1462, 220, 23, 24, 13, 20, 23, 220, 22, 17, 13, 23, 23, 220, 23, 15, 13, 18, 22, 220, 24, 20, 13, 23, 18, 220, 22, 22, 13, 24, 22, 220, 23, 20, 13, 24, 23, 328, 1381, 545, 220, 22, 21, 13, 15, 18, 220, 22, 22, 13, 24, 22, 220, 22, 21, 13, 24, 24, 220, 23, 23, 13, 19, 18, 220, 24, 15, 13, 21, 23, 220, 23, 24, 13, 20, 19, 65616, 1462, 220, 23, 23, 13, 20, 19, 220, 22, 17, 13, 15, 18, 220, 22, 24, 13, 19, 19, 220, 24, 21, 13, 23, 23, 220, 22, 23, 13, 23, 16, 220, 23, 21, 13, 24, 17, 23153, 1462, 21477, 220, 23, 24, 13, 20, 17, 220, 24, 19, 13, 15, 22, 220, 24, 16, 13, 22, 19, 220, 24, 18, 13, 20, 20, 220, 24, 23, 13, 18, 16, 220, 24, 20, 13, 23, 22, 23153, 1462, 13431, 220, 23, 24, 13, 17, 15, 220, 24, 19, 13, 19, 24, 220, 24, 16, 13, 22, 22, 220, 24, 18, 13, 17, 15, 220, 24, 23, 13, 22, 23, 220, 24, 20, 13, 23, 23, 1699, 2556, 220, 20, 25, 5624, 315, 882, 11211, 323, 35670, 369, 14461, 1699, 33363, 671, 1462, 58166, 671, 66937, 4120, 25828, 220, 19, 220, 20, 29228, 98970, 220, 16, 21, 220, 16, 24, 77701, 220, 18, 220, 17, 24731, 5360, 11412, 1210, 364, 20, 13, 17, 13, 17, 23153, 1462, 13431, 348, 514, 13, 23153, 1462, 21477, 516, 364, 1318, 1210, 364, 2556, 220, 20, 11469, 279, 1372, 315, 882, 11211, 323, 35670, 3694, 311, 23153, 1462, 21477, 311, 633, 23153, 1462, 13431, 7110, 77, 1925, 4120, 25828, 323, 77701, 29425, 11, 1172, 264, 2421, 11211, 525, 3694, 11, 279, 12159, 3059, 525, 11495, 10078, 13, 1096, 42396, 279, 2613, 1379, 315, 882, 4244, 323, 279, 1550, 10191, 315, 23153, 1462, 13, 1913, 29228, 98970, 11, 12040, 803, 11211, 525, 3694, 11, 23153, 1462, 13431, 26674, 1753, 2664, 1091, 23153, 1462, 40, 11, 5310, 304, 19091, 13, 1084, 34950, 279, 19091, 553, 220, 18, 13, 17, 20, 4, 304, 7304, 2432, 323, 553, 220, 17, 13, 24, 23, 4, 304, 30367, 2432, 13, 1096, 14807, 429, 448, 803, 4244, 3694, 504, 3151, 30476, 320, 68, 1302, 2572, 29228, 98970, 911, 4116, 701, 23153, 1462, 646, 7269, 279, 5068, 3159, 2137, 5360, 11412, 1210, 364, 20, 13, 18, 28008, 804, 516, 364, 1318, 1210, 364, 37134, 1462, 21484, 429, 4244, 525, 3950, 1506, 323, 26494, 37113, 12440, 13, 758, 8729, 11, 4764, 11, 279, 3950, 1506, 323, 37113, 4244, 525, 537, 429, 4727, 11, 4152, 311, 279, 3930, 315, 1483, 7375, 13, 1752, 3110, 11, 30688, 26494, 350, 10114, 49912, 647, 9548, 311, 279, 3409, 3369, 36468, 527, 304, 3369, 1626, 48878, 476, 7578, 527, 1393, 6693, 4772, 1265, 387, 451, 26227, 13, 576, 15114, 11211, 323, 26494, 9492, 7802, 279, 1102, 3159, 2137, 5360, 11412, 1210, 364, 21, 73877, 323, 3853, 975, 516, 364, 1318, 1210, 364, 1654, 6786, 458, 6358, 389, 279, 882, 23393, 504, 3040, 29425, 11, 323, 22986, 429, 882, 23393, 304, 4586, 525, 1602, 2805, 323, 13302, 553, 264, 2613, 34918, 11, 323, 4244, 304, 882, 23393, 19869, 4428, 83187, 23170, 7709, 13, 5633, 23722, 3410, 5904, 304, 3793, 315, 882, 7493, 369, 279, 17508, 315, 3245, 5041, 320, 31047, 69, 11, 220, 16, 24, 19, 24, 568, 64825, 553, 949, 8668, 1331, 39586, 11, 3118, 389, 279, 23722, 11, 582, 6979, 264, 83187, 23170, 943, 1849, 369, 279, 882, 7493, 11, 323, 29614, 264, 943, 5980, 882, 7493, 4772, 1389, 11, 6941, 553, 23153, 1462, 13, 23153, 1462, 18653, 83187, 23170, 4494, 369, 11211, 323, 389, 279, 4494, 432, 14431, 4285, 66609, 5601, 3118, 389, 279, 4522, 315, 18732, 14461, 13, 1374, 49632, 389, 2326, 29425, 1473, 429, 23153, 1462, 700, 712, 9807, 279, 1584, 8668, 10603, 37821, 3046, 10999, 11, 2670, 5912, 5980, 882, 4772, 10637, 323, 5662, 6832, 3118, 882, 4772, 1389, 13, 1634, 458, 9016, 3100, 12635, 5912, 5980, 4772, 1389, 11, 23153, 1462, 8473, 304, 1931, 882, 13, 23153, 1462, 5707, 458, 4522, 311, 39721, 279, 5912, 5980, 882, 4772, 1389, 7110, 77, 1462, 7493, 374, 949, 315, 4128, 323, 11017, 279, 17508, 315, 3245, 5041, 320, 31047, 69, 11, 220, 16, 24, 19, 24, 568, 8704, 4128, 10431, 35616, 311, 3738, 25785, 320, 1143, 316, 26684, 11, 220, 16, 24, 23, 21, 26, 26119, 261, 11, 220, 16, 24, 24, 20, 701, 582, 2578, 1720, 429, 12677, 1035, 4332, 1045, 4185, 25785, 11, 323, 8916, 1720, 429, 1008, 15459, 323, 1008, 5479, 315, 4128, 1035, 803, 476, 2686, 1795, 279, 1852, 17508, 13, 758, 279, 3853, 582, 686, 1430, 1039, 42964, 1714, 389, 1008, 15459, 323, 1008, 5479, 315, 4128, 7110, 77, 24, 1699, 23, 15, 16, 1699, 23, 15, 17, 1699, 23, 15, 18, 1699, 23, 15, 19, 1699, 23, 15, 20, 1699, 23, 15, 21, 1699, 23, 15, 22, 1699, 23, 15, 23, 1699, 23, 15, 24, 1699, 23, 16, 15, 1699, 23, 16, 16, 1699, 23, 16, 17, 1699, 23, 16, 18, 1699, 23, 16, 19, 1699, 23, 16, 20, 1699, 23, 16, 21, 1699, 23, 16, 22, 1699, 23, 16, 23, 1699, 23, 16, 24, 1699, 23, 17, 15, 1699, 23, 17, 16, 1699, 23, 17, 17, 1699, 23, 17, 18, 1699, 23, 17, 19, 1699, 23, 17, 20, 1699, 23, 17, 21, 1699, 23, 17, 22, 1699, 23, 17, 23, 1699, 23, 17, 24, 1699, 23, 18, 15, 1699, 23, 18, 16, 1699, 23, 18, 17, 1699, 23, 18, 18, 1699, 23, 18, 19, 1699, 23, 18, 20, 1699, 23, 18, 21, 1699, 23, 18, 22, 1699, 23, 18, 23, 1699, 23, 18, 24, 1699, 23, 19, 15, 1699, 23, 19, 16, 1699, 23, 19, 17, 1699, 23, 19, 18, 1699, 23, 19, 19, 1699, 23, 19, 20, 1699, 23, 19, 21, 1699, 23, 19, 22, 1699, 23, 19, 23, 1699, 23, 19, 24, 1699, 23, 20, 15, 1699, 23, 20, 16, 1699, 23, 20, 17, 1699, 23, 20, 18, 1699, 23, 20, 19, 1699, 23, 20, 20, 1699, 23, 20, 21, 1699, 23, 20, 22, 1699, 23, 20, 23, 1699, 23, 20, 24, 1699, 23, 21, 15, 1699, 23, 21, 16, 1699, 23, 21, 17, 1699, 23, 21, 18, 1699, 23, 21, 19, 1699, 23, 21, 20, 1699, 23, 21, 21, 1699, 23, 21, 22, 1699, 23, 21, 23, 1699, 23, 21, 24, 1699, 23, 22, 15, 1699, 23, 22, 16, 1699, 23, 22, 17, 1699, 23, 22, 18, 1699, 23, 22, 19, 1699, 23, 22, 20, 1699, 23, 22, 21, 1699, 23, 22, 22, 1699, 23, 22, 23, 1699, 23, 22, 24, 1699, 23, 23, 15, 1699, 23, 23, 16, 1699, 23, 23, 17, 1699, 23, 23, 18, 1699, 23, 23, 19, 1699, 23, 23, 20, 1699, 23, 23, 21, 1699, 23, 23, 22, 1699, 23, 23, 23, 1699, 23, 23, 24, 1699, 23, 24, 15, 1699, 23, 24, 16, 1699, 23, 24, 17, 1699, 23, 24, 18, 1699, 23, 24, 19, 1699, 23, 24, 20, 1699, 23, 24, 21, 1699, 23, 24, 22, 1699, 23, 24, 23, 1699, 23, 24, 24, 8275, 2533, 220, 43461, 220, 17, 15, 16, 22, 18653, 84273, 7267, 438, 9443, 654, 4241, 25, 16246, 429, 419, 374, 264, 2805, 14, 4825, 5567, 11, 374, 432, 38944, 5112, 323, 17423, 5267, 220, 12553, 432, 9355, 1584, 12344, 8186, 323, 3410, 25532, 1824, 369, 1105, 5267, 220, 1752, 22000, 15689, 25, 2908, 279, 7990, 323, 5144, 57221, 315, 279, 3412, 4755, 26219, 11, 10916, 5112, 2090, 315, 21204, 11, 1714, 5729, 31839, 315, 16460, 624, 220, 1752, 2309, 15689, 11, 31213, 25, 2908, 3425, 279, 1482, 1584, 315, 279, 2070, 374, 48572, 15251, 323, 1887, 5546, 12, 16370, 25498, 13, 1752, 5101, 15689, 25, 2908, 279, 821, 4426, 37052, 11, 12942, 821, 609, 279, 6672, 504, 6350, 4963, 525, 7481, 304, 14016, 7716, 382, 220, 220, 20, 284, 36766, 25, 1096, 3920, 374, 825, 315, 279, 1429, 17423, 358, 614, 3884, 11, 2661, 1181, 943, 382, 220, 220, 19, 284, 26099, 25, 1096, 3920, 5707, 14016, 1824, 369, 678, 315, 1181, 8186, 13, 4329, 4960, 21204, 1410, 387, 6419, 11, 714, 537, 7565, 382, 220, 220, 18, 284, 20829, 480, 25, 1096, 3920, 5707, 14016, 1824, 369, 1181, 1887, 8186, 13, 4329, 8922, 3501, 1231, 1184, 4960, 1824, 476, 3565, 382, 220, 220, 17, 284, 44673, 25, 4329, 315, 279, 1887, 8186, 525, 537, 38944, 7248, 13, 2619, 525, 3598, 10916, 91837, 5729, 5322, 382, 220, 220, 16, 284, 17121, 36443, 25, 1096, 3920, 374, 537, 3602, 38944, 17423, 311, 7091, 16599, 476, 374, 537, 9760, 311, 43461, 624, 18611, 220, 12091, 279, 5567, 8794, 323, 279, 43461, 220, 17, 15, 16, 22, 7271, 315, 84273, 7267, 11, 5456, 279, 5567, 389, 84273, 7267, 323, 3410, 697, 32711, 382, 256, 151645, 198, 151644, 77091, 198, 515, 220, 330, 68931, 788, 330, 19, 756, 220, 330, 2165, 1574, 788, 330, 785, 5567, 18404, 264, 17423, 6358, 315, 882, 23393, 3941, 5248, 29425, 11, 8241, 25709, 1119, 862, 5282, 85, 487, 323, 83187, 23170, 7709, 13, 1084, 38919, 23153, 1462, 11, 264, 943, 5980, 882, 7493, 4772, 1389, 11, 323, 11554, 1181, 8186, 448, 22000, 3059, 3941, 2326, 29425, 13, 5976, 279, 21204, 525, 15817, 323, 279, 37052, 374, 5112, 11, 1052, 374, 3054, 369, 5107, 21204, 11, 7945, 304, 23966, 279, 4586, 449, 2897, 315, 23153, 1462, 3941, 1008, 15459, 476, 30476, 11, 892, 1410, 19681, 279, 3920, 4623, 10040, 532], 'total_duration': 7893961700, 'load_duration': 37688400, 'prompt_eval_count': 4096, 'prompt_eval_duration': 3609784700, 'eval_count': 109, 'eval_duration': 4245690100}}}\n"
     ]
    }
   ],
   "source": [
    "#checking predict_aspect function works for one paper example\n",
    "results = {}\n",
    "results = predict_aspect(parsed_path, review_path, results)\n",
    "print(results)"
   ]
  }
 ],
 "metadata": {
  "kernelspec": {
   "display_name": "dtais_demo_conda",
   "language": "python",
   "name": "python3"
  },
  "language_info": {
   "codemirror_mode": {
    "name": "ipython",
    "version": 3
   },
   "file_extension": ".py",
   "mimetype": "text/x-python",
   "name": "python",
   "nbconvert_exporter": "python",
   "pygments_lexer": "ipython3",
   "version": "3.13.2"
  }
 },
 "nbformat": 4,
 "nbformat_minor": 5
}
